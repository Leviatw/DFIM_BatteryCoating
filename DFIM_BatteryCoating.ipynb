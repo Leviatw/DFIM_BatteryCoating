{
 "cells": [
  {
   "cell_type": "code",
   "execution_count": 2,
   "metadata": {},
   "outputs": [],
   "source": [
    "import numpy as np\n",
    "from tqdm import tqdm\n",
    "from scipy.stats import multivariate_normal, matrix_normal, norm"
   ]
  },
  {
   "cell_type": "markdown",
   "metadata": {},
   "source": [
    "# Data generation"
   ]
  },
  {
   "cell_type": "code",
   "execution_count": 3,
   "metadata": {},
   "outputs": [],
   "source": [
    "# setting\n",
    "ControlList = ['InControl','OutControl']\n",
    "DataTypeList = ['Profile','Image']\n",
    "CovList = ['TriDiagonal','Exponential']\n",
    "DistList = ['Normal','Exponential']\n",
    "phiList = [0.3, 0.7]\n",
    "rhoList = [0.3]"
   ]
  },
  {
   "cell_type": "code",
   "execution_count": 4,
   "metadata": {},
   "outputs": [],
   "source": [
    "def getCov(rho, p, type):\n",
    "    Sigma = np.eye(p)\n",
    "    if type == CovList[0]:\n",
    "        tmp = np.ones(p-1)*rho\n",
    "        Sigma = Sigma+np.diag(tmp, k = 1)+np.diag(tmp, k = -1)\n",
    "    elif type == CovList[1]:\n",
    "        for d in range(1, p-1):\n",
    "            tmp = np.ones(p-d)*(rho**d)\n",
    "            Sigma = Sigma+np.diag(tmp, k = d)+np.diag(tmp, k = -d)\n",
    "    return Sigma"
   ]
  },
  {
   "cell_type": "markdown",
   "metadata": {},
   "source": [
    "## Type 1"
   ]
  },
  {
   "cell_type": "markdown",
   "metadata": {},
   "source": [
    "### In-control"
   ]
  },
  {
   "cell_type": "code",
   "execution_count": 48,
   "metadata": {},
   "outputs": [
    {
     "name": "stdout",
     "output_type": "stream",
     "text": [
      "('InControl', 'Profile', 'TriDiagonal', 'Normal', 'phi', '0.3', 'rho', '0.3')\n"
     ]
    },
    {
     "name": "stderr",
     "output_type": "stream",
     "text": [
      "  0%|          | 0/200 [00:00<?, ?it/s]"
     ]
    },
    {
     "name": "stderr",
     "output_type": "stream",
     "text": [
      "100%|██████████| 200/200 [00:06<00:00, 31.65it/s]\n"
     ]
    }
   ],
   "source": [
    "seedid = 19940402\n",
    "np.random.seed(seedid)\n",
    "p = 200\n",
    "w = 5\n",
    "TrnLen = 200 # full scale is 50000\n",
    "ARL0= 1000\n",
    "mu0 = 5*np.ones(p)\n",
    "ControlType = 'InControl'\n",
    "DataType = 'Profile'\n",
    "DistType = 'Normal'\n",
    "rho = 0.3 \n",
    "CovType = 'TriDiagonal'\n",
    "phi = 0.3\n",
    "Tag = (ControlType,DataType,CovType,DistType,'phi',str(phi),'rho',str(rho))\n",
    "TagJoin = ''.join(Tag)\n",
    "print(Tag)\n",
    "trn = []\n",
    "Cov = getCov(rho,p,CovType)\n",
    "Phi = phi * np.eye(p)   \n",
    "\n",
    "eps0 = multivariate_normal.rvs(np.zeros(p), Cov)\n",
    "for i in tqdm(range(TrnLen)):\n",
    "    eps = np.matmul(Phi, eps0) + multivariate_normal.rvs(np.zeros(p), Cov)\n",
    "    trn.append(mu0 + eps)\n",
    "    eps0 = eps\n",
    "trn = np.array(trn)\n",
    "np.save(\"data/in-control/Trn\"+TagJoin+\".npy\", trn)"
   ]
  },
  {
   "cell_type": "markdown",
   "metadata": {},
   "source": [
    "### Out-of-control"
   ]
  },
  {
   "cell_type": "code",
   "execution_count": 71,
   "metadata": {},
   "outputs": [],
   "source": [
    "p = 200\n",
    "w = 5\n",
    "deltanorm = 2 # the norm of shift for Type1\n",
    "ShiftType = 'Sparse'\n",
    "\n",
    "if ShiftType == 'Sparse':\n",
    "    shift_basis = np.zeros(p) # sparse\n",
    "    shift_basis[18:23] = np.ones(5)\n",
    "    shift_basis = deltanorm/np.sqrt(np.sum(shift_basis**2))*shift_basis\n",
    "\n",
    "elif ShiftType == 'Stepwise':\n",
    "    shift_basis = np.zeros(p) # piece_1\n",
    "    shift_basis[50:100] = np.ones(50)\n",
    "    shift_basis[100:150] = 2 * np.ones(50)\n",
    "    shift_basis[150:200] = 3 * np.ones(50)\n",
    "    shift_basis = deltanorm/np.sqrt(np.sum(shift_basis**2))*shift_basis\n",
    "\n",
    "elif ShiftType == 'Zigzag':\n",
    "    shift_basis = np.zeros(p) # zigzag\n",
    "    left = 1\n",
    "    right = -1\n",
    "    for j in range(10):\n",
    "        shift_basis[j*20:(j+1)*20] = np.linspace(left, right, 20)\n",
    "        left, right = right, left\n",
    "    shift_basis = deltanorm/np.sqrt(np.sum(shift_basis**2))*shift_basis     \n"
   ]
  },
  {
   "cell_type": "code",
   "execution_count": 72,
   "metadata": {},
   "outputs": [
    {
     "name": "stdout",
     "output_type": "stream",
     "text": [
      "('OutControl', 'Profile', 'TriDiagonal', 'Normal', 'Sparse', 'phi', '0.3', 'rho', '0.3', 'deltanorm', '2')\n"
     ]
    },
    {
     "name": "stderr",
     "output_type": "stream",
     "text": [
      "100%|██████████| 5/5 [02:26<00:00, 29.31s/it]\n"
     ]
    }
   ],
   "source": [
    "seedid = 19940402\n",
    "np.random.seed(seedid)\n",
    "TrnLen = 1000 # length of sequence\n",
    "SeqNum = 5 # number of sequence, full scale is 1000\n",
    "ARL0 = 1000\n",
    "mu0 = 5*np.ones(p)\n",
    "mu1 = mu0+shift_basis\n",
    "ControlType = 'OutControl'\n",
    "DataType = 'Profile'\n",
    "DistType = 'Normal'\n",
    "rho = 0.3 \n",
    "CovType = 'TriDiagonal'\n",
    "phi = 0.3\n",
    "Tag = (ControlType,DataType,CovType,DistType,ShiftType,'phi',str(phi),'rho',str(rho),'deltanorm',str(deltanorm))\n",
    "TagJoin = ''.join(Tag)\n",
    "print(Tag)\n",
    "\n",
    "Cov = getCov(rho,p,CovType)\n",
    "Phi = phi * np.eye(p)   \n",
    "\n",
    "\n",
    "trn = []\n",
    "for n in tqdm(range(SeqNum)):\n",
    "    trn_seq = []\n",
    "    eps0 = multivariate_normal.rvs(np.zeros(p), Cov)\n",
    "    for i in range(TrnLen):\n",
    "        eps = np.matmul(Phi, eps0) + multivariate_normal.rvs(np.zeros(p), Cov)\n",
    "        trn_seq.append(mu1 + eps)\n",
    "        eps0 = eps\n",
    "    trn.append(trn_seq)\n",
    "trn = np.array(trn)\n",
    "\n",
    "np.save(\"data/out-of-control/Trn\"+TagJoin+\".npy\", trn)"
   ]
  },
  {
   "cell_type": "code",
   "execution_count": 73,
   "metadata": {},
   "outputs": [
    {
     "data": {
      "text/plain": [
       "(5, 1000, 200)"
      ]
     },
     "execution_count": 73,
     "metadata": {},
     "output_type": "execute_result"
    }
   ],
   "source": [
    "trn.shape #(numseq,lenseq,dimofprofile)"
   ]
  },
  {
   "cell_type": "markdown",
   "metadata": {},
   "source": [
    "## Type 2"
   ]
  },
  {
   "cell_type": "markdown",
   "metadata": {},
   "source": [
    "### In-control"
   ]
  },
  {
   "cell_type": "code",
   "execution_count": 79,
   "metadata": {},
   "outputs": [
    {
     "name": "stdout",
     "output_type": "stream",
     "text": [
      "TriDiagonal\n"
     ]
    },
    {
     "name": "stderr",
     "output_type": "stream",
     "text": [
      "100%|██████████| 200/200 [00:00<00:00, 267.80it/s]\n"
     ]
    }
   ],
   "source": [
    "seedid = 19940402\n",
    "np.random.seed(seedid)\n",
    "p = 200\n",
    "w = 100\n",
    "TrnLen = 200 # full scale is 30000\n",
    "ARL0 = 1000\n",
    "\n",
    "ControlType = 'InControl'\n",
    "DataType = 'Image'\n",
    "DistType = 'Normal'\n",
    "phi = 0.3\n",
    "rho = 0.3 \n",
    "Phi = phi * np.eye(p)\n",
    "m = 5*np.ones([w,p])\n",
    "CovType = 'TriDiagonal'\n",
    "\n",
    "TagN = (ControlType,DataType,CovType,'Normal','phi',str(phi),'rho',str(rho))\n",
    "TagNJoin = ''.join(TagN)\n",
    "TagE = (ControlType,DataType,CovType,'Exponential','phi',str(phi),'rho',str(rho))\n",
    "TagEJoin = ''.join(TagE)\n",
    "print(CovType)\n",
    "Covw = getCov(rho,w,CovType)\n",
    "Covp = getCov(rho,p,CovType)\n",
    "\n",
    "trnN = []\n",
    "trnE = []\n",
    "for i in tqdm(range(TrnLen)):\n",
    "    eps = matrix_normal.rvs(mean=np.zeros([w,p]), rowcov=Covw, colcov=Covp)\n",
    "    trnN.append(m + eps)\n",
    "    trnE.append(m + (-1 * np.log(1 - norm.cdf(eps))))\n",
    "trnN = np.array(trnN)\n",
    "trnE = np.array(trnE)\n",
    "\n",
    "np.save(\"data/in-control/Trn\"+TagNJoin+\".npy\", trnN)\n",
    "np.save(\"data/in-control/Trn\"+TagEJoin+\".npy\", trnE)"
   ]
  },
  {
   "cell_type": "markdown",
   "metadata": {},
   "source": [
    "### Out-of-control"
   ]
  },
  {
   "cell_type": "code",
   "execution_count": 13,
   "metadata": {},
   "outputs": [],
   "source": [
    "p = 200\n",
    "w = 100\n",
    "DeltaNorm = 10 # the norm of shift for Type2\n",
    "ShiftType = 'Chessboard'\n",
    "\n",
    "if ShiftType == 'Chessboard':\n",
    "    # Chessboard\n",
    "    shift_matrix = []\n",
    "    element = [[0, 1, 0, -1], [-1, 0, 1, 0]]\n",
    "    for i in range(w // 5):\n",
    "        row_element = element[i % 2]\n",
    "        row = []\n",
    "        for j in range(p // 10):\n",
    "            row += [row_element[j % 4]] * 10\n",
    "        shift_matrix += [row] * 5\n",
    "    shift_matrix = DeltaNorm / np.linalg.norm(shift_matrix) * np.array(shift_matrix)\n",
    "elif ShiftType == 'Sparse':\n",
    "    # Sparse\n",
    "    shift_matrix = np.zeros([w, p])\n",
    "    shift_matrix[8:13, 18:23] = np.ones([5, 5])\n",
    "\n",
    "    shift_matrix = np.zeros([w, p])\n",
    "    for i in range(99):\n",
    "        shift_matrix[i:(i+2), (2*i):(2*i+2)] = np.ones([2,2])\n",
    "\n",
    "    shift_matrix = np.zeros([w, p])\n",
    "    for i in range(25, 80):\n",
    "        j = int((i**2) * 100 / 80**2)\n",
    "        shift_matrix[i:(i+3), j:(j+3)] = np.ones([3,3])\n",
    "\n",
    "    u1 = np.linspace(1, -1, w)\n",
    "    v1 = np.linspace(1, 0, p)\n",
    "    shift_matrix = np.matmul(u1.reshape([w, 1]), v1.reshape([1, p]))\n",
    "    shift_matrix = DeltaNorm / np.linalg.norm(shift_matrix) * np.array(shift_matrix)\n",
    "elif ShiftType == 'Sine(row)':\n",
    "    # Sine (row)\n",
    "    shift_matrix = np.zeros([w, p])\n",
    "    for i in range(30):\n",
    "        shift_matrix[i,:] = np.sin(np.arange(0, p) * np.pi * 2 / 20)\n",
    "    for i in range(30, 60):\n",
    "        shift_matrix[i,:] = np.sin(np.arange(0, p) * np.pi * 4 / 20)\n",
    "    for i in range(60, 100):\n",
    "        shift_matrix[i,:] = np.sin(np.arange(0, p) * np.pi * 6 / 20)\n",
    "    shift_matrix = DeltaNorm / np.linalg.norm(shift_matrix) * np.array(shift_matrix)\n",
    "elif ShiftType == 'Sine(col)':\n",
    "    # Sine (column)\n",
    "    shift_matrix = np.zeros([w, p])\n",
    "    for i in range(60):\n",
    "        shift_matrix[:,i] = np.sin(np.arange(0, w) * np.pi * 2 / 10)\n",
    "    for i in range(60, 120):\n",
    "        shift_matrix[:,i] = np.sin(np.arange(0, w) * np.pi * 4 / 10)\n",
    "    for i in range(120, 200):\n",
    "        shift_matrix[:,i] = np.sin(np.arange(0, w) * np.pi * 6 / 10)\n",
    "    shift_matrix = DeltaNorm / np.linalg.norm(shift_matrix) * np.array(shift_matrix)\n",
    "elif ShiftType == 'Ring':\n",
    "    # Ring\n",
    "    shift_matrix = np.zeros([w, p])\n",
    "    for i in range(w):\n",
    "        for j in range(p):\n",
    "            if int(np.sqrt((i-50)**2 + (j-100)**2)) % 12 <= 3:\n",
    "                shift_matrix[i, j] = 1\n",
    "            elif int(np.sqrt((i-50)**2 + (j-100)**2)) % 12 >= 8:\n",
    "                shift_matrix[i, j] = -1\n",
    "    shift_matrix = DeltaNorm / np.linalg.norm(shift_matrix) * np.array(shift_matrix)"
   ]
  },
  {
   "cell_type": "code",
   "execution_count": 19,
   "metadata": {},
   "outputs": [
    {
     "name": "stdout",
     "output_type": "stream",
     "text": [
      "TriDiagonal\n"
     ]
    },
    {
     "name": "stderr",
     "output_type": "stream",
     "text": [
      "  0%|          | 0/5 [00:00<?, ?it/s]"
     ]
    },
    {
     "name": "stderr",
     "output_type": "stream",
     "text": [
      "100%|██████████| 5/5 [00:00<00:00, 25.52it/s]\n"
     ]
    },
    {
     "name": "stdout",
     "output_type": "stream",
     "text": [
      "Exponential\n"
     ]
    },
    {
     "name": "stderr",
     "output_type": "stream",
     "text": [
      "100%|██████████| 5/5 [00:00<00:00, 26.33it/s]\n"
     ]
    }
   ],
   "source": [
    "seedid = 19940402\n",
    "np.random.seed(seedid)\n",
    "TrnLen = 10 #30000\n",
    "SeqLen = 5\n",
    "ARL0 = 1000\n",
    "\n",
    "ControlType = 'OutControl'\n",
    "DataType = 'Image'\n",
    "DistType = 'Normal'\n",
    "phi = 0.3\n",
    "rho = 0.3 \n",
    "Phi = phi * np.eye(p)\n",
    "m = 5*np.ones([w,p])\n",
    "CovType = 'TriDiagonal'\n",
    "\n",
    "TagN = (ControlType,DataType,CovType,ShiftType,'Normal','phi',str(phi),'rho',str(rho),'DeltaNorm',str(DeltaNorm))\n",
    "TagNJoin = ''.join(TagN)\n",
    "TagE = (ControlType,DataType,CovType,ShiftType,'Exponential','phi',str(phi),'rho',str(rho),'DeltaNorm',str(DeltaNorm))\n",
    "TagEJoin = ''.join(TagE)\n",
    "print(CovType)\n",
    "Covw = getCov(rho,w,CovType)\n",
    "Covp = getCov(rho,p,CovType)\n",
    "\n",
    "trnN = []\n",
    "trnE = []\n",
    "for n in tqdm(range(SeqLen)):\n",
    "    trnN_seq = []\n",
    "    trnE_seq = []\n",
    "    for i in range(TrnLen):\n",
    "        eps = matrix_normal.rvs(mean=np.zeros([w,p]), rowcov=Covw, colcov=Covp)\n",
    "        trnN_seq.append(m + eps)\n",
    "        trnE_seq.append(m + (-1 * np.log(1 - norm.cdf(eps))))\n",
    "    trnN.append(trnN_seq)\n",
    "    trnE.append(trnE_seq)\n",
    "\n",
    "trnN = np.array(trnN)\n",
    "trnE = np.array(trnE)\n",
    "\n",
    "np.save(\"data/out-of-control/Trn\"+TagNJoin+\".npy\", trnN)\n",
    "np.save(\"data/out-of-control/Trn\"+TagEJoin+\".npy\", trnE)    "
   ]
  },
  {
   "cell_type": "code",
   "execution_count": 20,
   "metadata": {},
   "outputs": [
    {
     "data": {
      "text/plain": [
       "(5, 10, 100, 200)"
      ]
     },
     "execution_count": 20,
     "metadata": {},
     "output_type": "execute_result"
    }
   ],
   "source": [
    "trnN.shape"
   ]
  },
  {
   "cell_type": "code",
   "execution_count": null,
   "metadata": {},
   "outputs": [],
   "source": []
  },
  {
   "cell_type": "markdown",
   "metadata": {},
   "source": [
    "# DFIM"
   ]
  },
  {
   "cell_type": "markdown",
   "metadata": {},
   "source": [
    "## Functions"
   ]
  },
  {
   "cell_type": "code",
   "execution_count": 33,
   "metadata": {},
   "outputs": [],
   "source": [
    "def get_Gamma0(rho, p, type=1):\n",
    "    Sigma = np.eye(p)\n",
    "    if type == 1:\n",
    "        tmp = np.ones(p-1)*rho\n",
    "        Sigma = Sigma+np.diag(tmp, k = 1)+np.diag(tmp, k = -1)\n",
    "    elif type == 2:\n",
    "        for d in range(1, p-1):\n",
    "            tmp = np.ones(p-d)*(rho**d)\n",
    "            Sigma = Sigma+np.diag(tmp, k = d)+np.diag(tmp, k = -d)\n",
    "    return Sigma"
   ]
  },
  {
   "cell_type": "code",
   "execution_count": 45,
   "metadata": {},
   "outputs": [],
   "source": [
    "def weight(t):\n",
    "    g = -24 + 150*t - 150*(t**2)\n",
    "    return g\n",
    "\n",
    "# Define the equation of ARL as a function, so that it can be solved using bisection method.\n",
    "def search_func(my_K, target_ARL0, omega2, line, side=1):\n",
    "    term = 2 * my_K * (line + 1.166 * np.sqrt(omega2)) /omega2\n",
    "    f = omega2 / (2 * my_K**2) * (np.exp(term) - 1 - term) - side * target_ARL0\n",
    "    return f"
   ]
  },
  {
   "cell_type": "code",
   "execution_count": 35,
   "metadata": {},
   "outputs": [],
   "source": [
    "def get_Omega2(in_data, batch_size):\n",
    "    N_in = len(in_data)\n",
    "    overall_sum = 0\n",
    "    for i in range(N_in - batch_size + 1):\n",
    "        summation = 0\n",
    "        b_mean = np.mean(in_data[i:i + batch_size])\n",
    "        for k in range(1, batch_size + 1):\n",
    "            summation += weight(k / batch_size) * k ** 2 * (np.mean(in_data[i:i + k]) - b_mean) ** 2 / batch_size\n",
    "        overall_sum += summation / batch_size\n",
    "    omega_square = overall_sum / (N_in - batch_size + 1)\n",
    "    return omega_square"
   ]
  },
  {
   "cell_type": "code",
   "execution_count": 36,
   "metadata": {},
   "outputs": [],
   "source": [
    "def get_H(omega_square, big_K, target_ARL0, side=1):\n",
    "    my_h_const = 10\n",
    "    my_s_const = 1\n",
    "\n",
    "    while search_func(big_K, target_ARL0, omega_square, my_h_const*np.sqrt(omega_square), side) < 0:\n",
    "        my_h_const = my_h_const * 2\n",
    "\n",
    "    while search_func(big_K, target_ARL0, omega_square, my_s_const*np.sqrt(omega_square), side) > 0:\n",
    "        my_s_const = my_s_const / 2\n",
    "\n",
    "    high = my_h_const * np.sqrt(omega_square)\n",
    "    low = my_s_const * np.sqrt(omega_square)\n",
    "\n",
    "    while high - low > 0.1:\n",
    "        mid = (high + low) / 2\n",
    "        test_value = search_func(big_K, target_ARL0, omega_square, mid, side)\n",
    "        if test_value > 0:\n",
    "            high = mid\n",
    "        else:\n",
    "            low = mid\n",
    "    control_limit = (high + low) / 2\n",
    "    return control_limit"
   ]
  },
  {
   "cell_type": "code",
   "execution_count": 41,
   "metadata": {},
   "outputs": [],
   "source": [
    "def DFTC_setup(in_data, batch_size=50, small_k=0.01, target_arl0=5000, side=1):\n",
    "    omega_square = get_Omega2(in_data, batch_size)\n",
    "    print('omega_square: ', omega_square)\n",
    "    big_K = small_k * np.std(in_data)\n",
    "    control_limit = get_H(omega_square, big_K, target_arl0, side)\n",
    "    return np.mean(in_data), big_K, control_limit, omega_square"
   ]
  },
  {
   "cell_type": "code",
   "execution_count": 38,
   "metadata": {},
   "outputs": [],
   "source": [
    "def DFTC_monitor(data, mu, big_K, control_limit, side=1, return_cusum=False, datetime=[]):\n",
    "    N = len(data)\n",
    "    cusum = 0\n",
    "    cusum_m = 0\n",
    "    cusum_list = []\n",
    "    cusum_m_list = []\n",
    "    for i in range(N):\n",
    "        cusum = max(0, cusum + (data[i] - mu) - big_K)\n",
    "        cusum_m = max(0, cusum_m - (data[i] - mu) - big_K)\n",
    "        cusum_list.append(cusum)\n",
    "        cusum_m_list.append(cusum_m)\n",
    "    out_index1 = np.where(np.array(cusum_list) > control_limit)\n",
    "    out_index2 = np.where(np.array(cusum_m_list) > control_limit)\n",
    "    if len(out_index1[0]) > 0:\n",
    "        rl1 = np.min(out_index1[0])\n",
    "    else:\n",
    "        rl1 = N\n",
    "    if len(out_index2[0]) > 0:\n",
    "        rl2 = np.min(out_index2[0])\n",
    "    else:\n",
    "        rl2 = N\n",
    "    \n",
    "    if return_cusum and side==1:\n",
    "        return cusum_list\n",
    "    if side == 1:\n",
    "        return rl1 + 1\n",
    "    else:\n",
    "        return np.min([rl1, rl2]) + 1"
   ]
  },
  {
   "cell_type": "code",
   "execution_count": 67,
   "metadata": {},
   "outputs": [],
   "source": [
    "from sklearn.decomposition import TruncatedSVD\n",
    "class DFIM2:\n",
    "    def __init__(self, target_arl0 = 1000, side=1, window_size=5, skip_row=0):\n",
    "        self.target_arl0 = target_arl0\n",
    "        self.side = side\n",
    "        self.window_size = window_size\n",
    "        self.skip_row = skip_row\n",
    "    \n",
    "    def setup(self, data_in, target_value=None, rank=1, batch_size=50, small_k=0.01):\n",
    "        col_num = data_in.shape[1]\n",
    "        if target_value:\n",
    "            self.M0 = target_value * np.ones([self.window_size, col_num])\n",
    "        else:\n",
    "            self.M0 = np.zeros([self.window_size, col_num])\n",
    "            for i in np.arange(0, data_in.shape[0] - self.window_size + 1, self.skip_row + 1):\n",
    "                self.M0 += data_in[i:(i+self.window_size)]\n",
    "            self.M0 /= (data_in.shape[0] - self.window_size + 1) // (self.skip_row + 1)\n",
    "\n",
    "        self.u0, self.s0, self.vt0 = np.linalg.svd(self.M0)\n",
    "        \n",
    "        lambdaR = []\n",
    "        lambdaP = []\n",
    "        for i in tqdm(np.arange(0, data_in.shape[0] - self.window_size + 1, self.skip_row + 1)):\n",
    "            Y = data_in[i:(i+self.window_size)]\n",
    "            # ur, sr, vtr = np.linalg.svd(Y - self.M0)\n",
    "            svd = TruncatedSVD(n_components=1, n_iter=7, random_state=42)\n",
    "            svd.fit(Y - self.M0)\n",
    "            lambdaR.append(svd.singular_values_[0])\n",
    "            s2 = np.diagonal(np.matmul(np.matmul(self.u0[:, :rank].T, Y), self.vt0[:rank, :].T))\n",
    "            lambdaP.append(s2[0])\n",
    "        self.lambdaR_bar = np.mean(lambdaR)\n",
    "        self.lambdaP_bar = np.mean(lambdaP)\n",
    "        lbd = 0.1*10**5\n",
    "\n",
    "        self.inv_sigma = np.linalg.inv(np.cov([lambdaR, lambdaP])+lbd*np.eye(2))\n",
    "        data_in_reduced = np.diagonal(\n",
    "            np.matmul(np.matmul(np.array([lambdaR-self.lambdaR_bar, lambdaP-self.lambdaP_bar]).T, \n",
    "                                self.inv_sigma),\n",
    "                      np.array([lambdaR-self.lambdaR_bar, lambdaP-self.lambdaP_bar]))\n",
    "        )\n",
    "#         data_reduced = np.sqrt(data_reduced)\n",
    "        self.mu, self.big_K, self.control_limit, self.omega_square = DFTC_setup(data_in_reduced, batch_size=batch_size, \n",
    "                                                                                 small_k=small_k, \n",
    "                                                                                 target_arl0=self.target_arl0, \n",
    "                                                                                 side=self.side)\n",
    "        \n",
    "    def setup_type2(self, data_in, target_value=None, rank=1, batch_size=50, small_k=0.01):\n",
    "        maxT = data_in.shape[0]\n",
    "        row_num = data_in.shape[1]\n",
    "        col_num = data_in.shape[2]\n",
    "        if target_value:\n",
    "            self.M0 = target_value * np.ones([row_num, col_num])\n",
    "        else:\n",
    "            self.M0 = np.zeros([row_num, col_num])\n",
    "            for i in np.arange(maxT):\n",
    "                self.M0 += data_in[i]\n",
    "            self.M0 /= maxT\n",
    "\n",
    "        self.u0, self.s0, self.vt0 = np.linalg.svd(self.M0)\n",
    "        \n",
    "        lambdaR = []\n",
    "        lambdaP = []\n",
    "        for i in tqdm(np.arange(maxT)):\n",
    "            Y = data_in[i]\n",
    "            # ur, sr, vtr = np.linalg.svd(Y - self.M0)\n",
    "            svd = TruncatedSVD(n_components=1, n_iter=7, random_state=42)\n",
    "            svd.fit(Y - self.M0)\n",
    "            lambdaR.append(svd.singular_values_[0])\n",
    "            s2 = np.diagonal(np.matmul(np.matmul(self.u0[:, :rank].T, Y), self.vt0[:rank, :].T))\n",
    "            lambdaP.append(s2[0])\n",
    "        self.lambdaR_bar = np.mean(lambdaR)\n",
    "        self.lambdaP_bar = np.mean(lambdaP)\n",
    "        self.inv_sigma = np.linalg.inv(np.cov([lambdaR, lambdaP]))\n",
    "        data_in_reduced = np.diagonal(\n",
    "            np.matmul(np.matmul(np.array([lambdaR-self.lambdaR_bar, lambdaP-self.lambdaP_bar]).T, \n",
    "                                self.inv_sigma),\n",
    "                      np.array([lambdaR-self.lambdaR_bar, lambdaP-self.lambdaP_bar]))\n",
    "        )\n",
    "#         data_reduced = np.sqrt(data_reduced)\n",
    "        self.mu, self.big_K, self.control_limit, self.omega_square = DFTC_setup(data_in_reduced, batch_size=batch_size, \n",
    "                                                                                 small_k=small_k, \n",
    "                                                                                 target_arl0=self.target_arl0, \n",
    "                                                                                 side=self.side)\n",
    "        \n",
    "    def load(self, M0, inv_sigma, params):\n",
    "        self.M0 = M0\n",
    "        self.u0, self.s0, self.vt0 = np.linalg.svd(self.M0)\n",
    "        self.inv_sigma = inv_sigma\n",
    "        self.lambdaR_bar = params[0]\n",
    "        self.lambdaP_bar = params[1]\n",
    "        self.mu = params[2]\n",
    "        self.big_K = params[3]\n",
    "        self.control_limit = params[4]\n",
    "        \n",
    "    def monitor(self, data, rank=1, max_RL=10000, return_cusum=False, show_figure=False, datetime=[]):\n",
    "        if return_cusum:\n",
    "            lambdaR = []\n",
    "            lambdaP = []\n",
    "            for i in np.arange(0, data.shape[0] - self.window_size + 1, self.skip_row + 1):\n",
    "                Y = data[i:(i+self.window_size)]\n",
    "                # ur, sr, vtr = np.linalg.svd(Y - self.M0)\n",
    "                svd = TruncatedSVD(n_components=1, n_iter=7, random_state=42)\n",
    "                svd.fit(Y - self.M0)\n",
    "                lambdaR.append(svd.singular_values_[0])\n",
    "                s2 = np.diagonal(np.matmul(np.matmul(self.u0[:, :rank].T, Y), self.vt0[:rank, :].T))\n",
    "                lambdaP.append(s2[0])\n",
    "            data_reduced = np.diagonal(\n",
    "                np.matmul(np.matmul(np.array([lambdaR-self.lambdaR_bar, lambdaP-self.lambdaP_bar]).T, \n",
    "                                    self.inv_sigma),\n",
    "                          np.array([lambdaR-self.lambdaR_bar, lambdaP-self.lambdaP_bar]))\n",
    "            )\n",
    "    #         data_reduced = np.sqrt(data_reduced)\n",
    "            cusum_list = DFTC_monitor(data_reduced, self.mu, self.big_K, self.control_limit, \n",
    "                                      side=self.side, return_cusum=return_cusum,\n",
    "                                      show_figure=show_figure, datetime=datetime)\n",
    "            return cusum_list\n",
    "        else:\n",
    "            col_num = data.shape[1]\n",
    "            cusum = 0\n",
    "            self.RL = 0\n",
    "            i = 0\n",
    "            while cusum <= self.control_limit and self.RL <= max_RL:\n",
    "                if i + self.window_size > len(data):\n",
    "                    return \n",
    "                else:\n",
    "                    Y = data[i:(i+self.window_size)]\n",
    "                # ur, sr, vtr = np.linalg.svd(Y - self.M0)\n",
    "\n",
    "                svd = TruncatedSVD(n_components=1, n_iter=7, random_state=42)\n",
    "                svd.fit(Y - self.M0)\n",
    "                lambdaR = svd.singular_values_[0]\n",
    "                \n",
    "                s2 = np.diagonal(np.matmul(np.matmul(self.u0[:, :rank].T, Y), self.vt0[:rank, :].T))\n",
    "                lambdaP = s2[0]\n",
    "                data_reduced = np.matmul(np.matmul(np.array([lambdaR-self.lambdaR_bar, lambdaP-self.lambdaP_bar]).T, \n",
    "                                    self.inv_sigma),\n",
    "                          np.array([lambdaR-self.lambdaR_bar, lambdaP-self.lambdaP_bar]))\n",
    "                cusum = max(0, cusum + (data_reduced - self.mu) - self.big_K)\n",
    "                self.RL += 1\n",
    "                i += self.skip_row + 1\n",
    "    \n",
    "    def monitor_image(self, M, rank=1, max_RL=10000):\n",
    "        cusum = 0\n",
    "        self.RL = 0\n",
    "        cov_row = getCov(rho,w,CovType)\n",
    "        cov_col = getCov(rho,p,CovType)\n",
    "        while cusum <= self.control_limit and self.RL <= max_RL:\n",
    "            Y = matrix_normal.rvs(mean=self.M0+M, rowcov=cov_row, colcov=cov_col, size=1)\n",
    "            ur, sr, vtr = np.linalg.svd(Y - self.M0)\n",
    "            lambdaR = sr[0]\n",
    "            s2 = np.diagonal(np.matmul(np.matmul(self.u0[:, :rank].T, Y), self.vt0[:rank, :].T))\n",
    "            lambdaP = s2[0]\n",
    "            data_reduced = np.matmul(np.matmul(np.array([lambdaR-self.lambdaR_bar, lambdaP-self.lambdaP_bar]).T, \n",
    "                                self.inv_sigma),\n",
    "                      np.array([lambdaR-self.lambdaR_bar, lambdaP-self.lambdaP_bar]))\n",
    "            cusum = max(0, cusum + (data_reduced - self.mu) - self.big_K)\n",
    "            self.RL += 1\n",
    "    \n",
    "    def monitor_exp_image(self, M, rank=1, max_RL=10000):\n",
    "        cusum = 0\n",
    "        self.RL = 0\n",
    "        ROW_NUM, COL_NUM = w, p\n",
    "        cov_row = getCov(rho,w,CovType)\n",
    "        cov_col = getCov(rho,p,CovType)\n",
    "        while cusum <= self.control_limit and self.RL <= max_RL:\n",
    "            norm_epsilon = matrix_normal.rvs(mean=np.zeros([ROW_NUM, COL_NUM]), rowcov=cov_row, colcov=cov_col)\n",
    "            Y = M + (-1 * np.log(1 - norm.cdf(norm_epsilon)))\n",
    "            ur, sr, vtr = np.linalg.svd(Y - self.M0)\n",
    "            lambdaR = sr[0]\n",
    "            s2 = np.diagonal(np.matmul(np.matmul(self.u0[:, :rank].T, Y), self.vt0[:rank, :].T))\n",
    "            lambdaP = s2[0]\n",
    "            data_reduced = np.matmul(np.matmul(np.array([lambdaR-self.lambdaR_bar, lambdaP-self.lambdaP_bar]).T, \n",
    "                                self.inv_sigma),\n",
    "                      np.array([lambdaR-self.lambdaR_bar, lambdaP-self.lambdaP_bar]))\n",
    "            cusum = max(0, cusum + (data_reduced - self.mu) - self.big_K)\n",
    "            self.RL += 1"
   ]
  },
  {
   "cell_type": "markdown",
   "metadata": {},
   "source": [
    "## Type 1"
   ]
  },
  {
   "cell_type": "code",
   "execution_count": 74,
   "metadata": {},
   "outputs": [
    {
     "data": {
      "text/plain": [
       "(200, 200)"
      ]
     },
     "execution_count": 74,
     "metadata": {},
     "output_type": "execute_result"
    }
   ],
   "source": [
    "seedid = 19940402\n",
    "np.random.seed(seedid)\n",
    "p = 200\n",
    "w = 5\n",
    "TrnLen = 10 #50000\n",
    "ARL0=1000\n",
    "mu0 = 5*np.ones(p)\n",
    "ControlType = 'InControl'\n",
    "DataType = 'Profile'\n",
    "DistType = 'Normal'\n",
    "rho = 0.3 \n",
    "CovType = 'Tridiagonal'\n",
    "phi = 0.3\n",
    "Tag = (ControlType,DataType,CovType,DistType,'phi',str(phi),'rho',str(rho))\n",
    "TagJoin = ''.join(Tag)\n",
    "data_in = np.load(\"data/in-control/Trn\"+TagJoin+\".npy\")\n",
    "data_in.shape"
   ]
  },
  {
   "cell_type": "code",
   "execution_count": 75,
   "metadata": {},
   "outputs": [
    {
     "name": "stdout",
     "output_type": "stream",
     "text": [
      "('OutControl', 'Profile', 'TriDiagonal', 'Normal', 'Sparse', 'phi', '0.3', 'rho', '0.3', 'deltanorm', '2')\n"
     ]
    },
    {
     "data": {
      "text/plain": [
       "(5, 1000, 200)"
      ]
     },
     "execution_count": 75,
     "metadata": {},
     "output_type": "execute_result"
    }
   ],
   "source": [
    "ControlType = 'OutControl'\n",
    "DataType = 'Profile'\n",
    "DistType = 'Normal'\n",
    "rho = 0.3 \n",
    "CovType = 'TriDiagonal'\n",
    "phi = 0.3\n",
    "Tag = (ControlType,DataType,CovType,DistType,ShiftType,'phi',str(phi),'rho',str(rho),'deltanorm',str(deltanorm))\n",
    "TagJoin = ''.join(Tag)\n",
    "print(Tag)\n",
    "data_out = np.load(\"data/out-of-control/Trn\"+TagJoin+\".npy\")\n",
    "data_out.shape"
   ]
  },
  {
   "cell_type": "code",
   "execution_count": 76,
   "metadata": {},
   "outputs": [
    {
     "name": "stderr",
     "output_type": "stream",
     "text": [
      "100%|██████████| 196/196 [00:00<00:00, 627.32it/s]\n"
     ]
    },
    {
     "name": "stdout",
     "output_type": "stream",
     "text": [
      "omega_square:  2.3391819511217277e-07\n"
     ]
    },
    {
     "data": {
      "text/plain": [
       "0.009914843493262543"
      ]
     },
     "execution_count": 76,
     "metadata": {},
     "output_type": "execute_result"
    }
   ],
   "source": [
    "dfim2 = DFIM2(skip_row=0)\n",
    "dfim2.setup(data_in, target_value=5)\n",
    "dfim2.control_limit"
   ]
  },
  {
   "cell_type": "code",
   "execution_count": 77,
   "metadata": {},
   "outputs": [
    {
     "name": "stderr",
     "output_type": "stream",
     "text": [
      "100%|██████████| 5/5 [00:00<00:00, 14.05it/s]\n"
     ]
    }
   ],
   "source": [
    "RL = []\n",
    "for i in tqdm(range(len(data_out))):\n",
    "    dfim2.monitor(data_out[i])\n",
    "    RL.append(dfim2.RL)"
   ]
  },
  {
   "cell_type": "code",
   "execution_count": 78,
   "metadata": {},
   "outputs": [
    {
     "data": {
      "text/plain": [
       "(70.2, 38.81443030626625)"
      ]
     },
     "execution_count": 78,
     "metadata": {},
     "output_type": "execute_result"
    }
   ],
   "source": [
    "np.mean(RL), np.std(RL)"
   ]
  },
  {
   "cell_type": "markdown",
   "metadata": {},
   "source": [
    "## Type 2"
   ]
  },
  {
   "cell_type": "code",
   "execution_count": 91,
   "metadata": {},
   "outputs": [
    {
     "data": {
      "text/plain": [
       "(200, 100, 200)"
      ]
     },
     "execution_count": 91,
     "metadata": {},
     "output_type": "execute_result"
    }
   ],
   "source": [
    "ControlType = 'InControl'\n",
    "DataType = 'Image'\n",
    "DistType = 'Normal'\n",
    "phi = 0.3\n",
    "rho = 0.3 \n",
    "Phi = phi * np.eye(p)\n",
    "m = 5*np.ones([w,p])\n",
    "CovType = 'TriDiagonal'\n",
    "\n",
    "TagN = (ControlType,DataType,CovType,'Normal','phi',str(phi),'rho',str(rho))\n",
    "TagNJoin = ''.join(TagN)\n",
    "\n",
    "data_in = np.load(\"data/in-control/Trn\"+TagNJoin+\".npy\")\n",
    "TrnLen,w,p = data_in.shape\n",
    "TrnLen,w,p"
   ]
  },
  {
   "cell_type": "code",
   "execution_count": 93,
   "metadata": {},
   "outputs": [
    {
     "data": {
      "text/plain": [
       "(20000, 200)"
      ]
     },
     "execution_count": 93,
     "metadata": {},
     "output_type": "execute_result"
    }
   ],
   "source": [
    "data_in = data_in.reshape(TrnLen*w,p)\n",
    "data_in.shape"
   ]
  },
  {
   "cell_type": "code",
   "execution_count": 96,
   "metadata": {},
   "outputs": [
    {
     "name": "stderr",
     "output_type": "stream",
     "text": [
      "  0%|          | 0/200 [00:00<?, ?it/s]"
     ]
    },
    {
     "name": "stderr",
     "output_type": "stream",
     "text": [
      "100%|██████████| 200/200 [00:00<00:00, 366.40it/s]"
     ]
    },
    {
     "name": "stdout",
     "output_type": "stream",
     "text": [
      "omega_square:  1.5520765747124813e-07\n"
     ]
    },
    {
     "name": "stderr",
     "output_type": "stream",
     "text": [
      "\n"
     ]
    },
    {
     "data": {
      "text/plain": [
       "0.008076262628982048"
      ]
     },
     "execution_count": 96,
     "metadata": {},
     "output_type": "execute_result"
    }
   ],
   "source": [
    "dfim2 = DFIM2(window_size=w, skip_row=w-1)\n",
    "dfim2.setup(data_in, target_value=5)\n",
    "dfim2.control_limit"
   ]
  },
  {
   "cell_type": "code",
   "execution_count": 105,
   "metadata": {},
   "outputs": [],
   "source": [
    "DeltaNorm = 10 # the norm of shift for Type2\n",
    "ShiftType = 'Chessboard'\n",
    "\n",
    "if ShiftType == 'Chessboard':\n",
    "    # Chessboard\n",
    "    shift_matrix = []\n",
    "    element = [[0, 1, 0, -1], [-1, 0, 1, 0]]\n",
    "    for i in range(w // 5):\n",
    "        row_element = element[i % 2]\n",
    "        row = []\n",
    "        for j in range(p // 10):\n",
    "            row += [row_element[j % 4]] * 10\n",
    "        shift_matrix += [row] * 5\n",
    "    shift_matrix = DeltaNorm / np.linalg.norm(shift_matrix) * np.array(shift_matrix)\n",
    "elif ShiftType == 'Sparse':\n",
    "    # Sparse\n",
    "    shift_matrix = np.zeros([w, p])\n",
    "    shift_matrix[8:13, 18:23] = np.ones([5, 5])\n",
    "\n",
    "    shift_matrix = np.zeros([w, p])\n",
    "    for i in range(99):\n",
    "        shift_matrix[i:(i+2), (2*i):(2*i+2)] = np.ones([2,2])\n",
    "\n",
    "    shift_matrix = np.zeros([w, p])\n",
    "    for i in range(25, 80):\n",
    "        j = int((i**2) * 100 / 80**2)\n",
    "        shift_matrix[i:(i+3), j:(j+3)] = np.ones([3,3])\n",
    "\n",
    "    u1 = np.linspace(1, -1, w)\n",
    "    v1 = np.linspace(1, 0, p)\n",
    "    shift_matrix = np.matmul(u1.reshape([w, 1]), v1.reshape([1, p]))\n",
    "    shift_matrix = DeltaNorm / np.linalg.norm(shift_matrix) * np.array(shift_matrix)\n",
    "elif ShiftType == 'Sine(row)':\n",
    "    # Sine (row)\n",
    "    shift_matrix = np.zeros([w, p])\n",
    "    for i in range(30):\n",
    "        shift_matrix[i,:] = np.sin(np.arange(0, p) * np.pi * 2 / 20)\n",
    "    for i in range(30, 60):\n",
    "        shift_matrix[i,:] = np.sin(np.arange(0, p) * np.pi * 4 / 20)\n",
    "    for i in range(60, 100):\n",
    "        shift_matrix[i,:] = np.sin(np.arange(0, p) * np.pi * 6 / 20)\n",
    "    shift_matrix = DeltaNorm / np.linalg.norm(shift_matrix) * np.array(shift_matrix)\n",
    "elif ShiftType == 'Sine(col)':\n",
    "    # Sine (column)\n",
    "    shift_matrix = np.zeros([w, p])\n",
    "    for i in range(60):\n",
    "        shift_matrix[:,i] = np.sin(np.arange(0, w) * np.pi * 2 / 10)\n",
    "    for i in range(60, 120):\n",
    "        shift_matrix[:,i] = np.sin(np.arange(0, w) * np.pi * 4 / 10)\n",
    "    for i in range(120, 200):\n",
    "        shift_matrix[:,i] = np.sin(np.arange(0, w) * np.pi * 6 / 10)\n",
    "    shift_matrix = DeltaNorm / np.linalg.norm(shift_matrix) * np.array(shift_matrix)\n",
    "elif ShiftType == 'Ring':\n",
    "    # Ring\n",
    "    shift_matrix = np.zeros([w, p])\n",
    "    for i in range(w):\n",
    "        for j in range(p):\n",
    "            if int(np.sqrt((i-50)**2 + (j-100)**2)) % 12 <= 3:\n",
    "                shift_matrix[i, j] = 1\n",
    "            elif int(np.sqrt((i-50)**2 + (j-100)**2)) % 12 >= 8:\n",
    "                shift_matrix[i, j] = -1\n",
    "    shift_matrix = DeltaNorm / np.linalg.norm(shift_matrix) * np.array(shift_matrix)\n",
    "\n",
    "M_shifted = 5*np.ones([w,p])+shift_matrix"
   ]
  },
  {
   "cell_type": "code",
   "execution_count": 106,
   "metadata": {},
   "outputs": [
    {
     "name": "stderr",
     "output_type": "stream",
     "text": [
      "100%|██████████| 5/5 [00:00<00:00, 37.64it/s]\n"
     ]
    }
   ],
   "source": [
    "RL = []\n",
    "for i in tqdm(range(5)): # the full scale is 5\n",
    "    dfim2.monitor_exp_image(max_RL=10000, M=M_shifted)\n",
    "    RL.append(dfim2.RL)\n"
   ]
  },
  {
   "cell_type": "code",
   "execution_count": 107,
   "metadata": {},
   "outputs": [
    {
     "data": {
      "text/plain": [
       "(1.0, 0.0)"
      ]
     },
     "execution_count": 107,
     "metadata": {},
     "output_type": "execute_result"
    }
   ],
   "source": [
    "np.mean(RL), np.std(RL)"
   ]
  },
  {
   "cell_type": "code",
   "execution_count": null,
   "metadata": {},
   "outputs": [],
   "source": []
  }
 ],
 "metadata": {
  "kernelspec": {
   "display_name": "Python 3.8.8 ('base')",
   "language": "python",
   "name": "python3"
  },
  "language_info": {
   "codemirror_mode": {
    "name": "ipython",
    "version": 3
   },
   "file_extension": ".py",
   "mimetype": "text/x-python",
   "name": "python",
   "nbconvert_exporter": "python",
   "pygments_lexer": "ipython3",
   "version": "3.8.8"
  },
  "orig_nbformat": 4,
  "vscode": {
   "interpreter": {
    "hash": "8ff70b884d003b5461196a04cb9410cf6794bf8e99aaa5d8c96ca3c62e7e7728"
   }
  }
 },
 "nbformat": 4,
 "nbformat_minor": 2
}
