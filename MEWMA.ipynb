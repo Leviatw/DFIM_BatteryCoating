{
 "cells": [
  {
   "cell_type": "code",
   "execution_count": 1,
   "metadata": {},
   "outputs": [],
   "source": [
    "import numpy as np\n",
    "from tqdm import tqdm\n",
    "from scipy.stats import multivariate_normal, matrix_normal, norm"
   ]
  },
  {
   "cell_type": "markdown",
   "metadata": {},
   "source": [
    "# Data generation"
   ]
  },
  {
   "cell_type": "code",
   "execution_count": 2,
   "metadata": {},
   "outputs": [],
   "source": [
    "# setting\n",
    "ControlList = ['InControl','OutControl']\n",
    "DataTypeList = ['Profile','Image']\n",
    "CovList = ['TriDiagonal','Exponential']\n",
    "DistList = ['Normal','Exponential']\n",
    "phiList = [0.3, 0.7]\n",
    "rhoList = [0.3]"
   ]
  },
  {
   "cell_type": "code",
   "execution_count": 3,
   "metadata": {},
   "outputs": [],
   "source": [
    "def getCov(rho, p, type):\n",
    "    Sigma = np.eye(p)\n",
    "    if type == CovList[0]:\n",
    "        tmp = np.ones(p-1)*rho\n",
    "        Sigma = Sigma+np.diag(tmp, k = 1)+np.diag(tmp, k = -1)\n",
    "    elif type == CovList[1]:\n",
    "        for d in range(1, p-1):\n",
    "            tmp = np.ones(p-d)*(rho**d)\n",
    "            Sigma = Sigma+np.diag(tmp, k = d)+np.diag(tmp, k = -d)\n",
    "    return Sigma"
   ]
  },
  {
   "cell_type": "markdown",
   "metadata": {},
   "source": [
    "## Type 1"
   ]
  },
  {
   "cell_type": "markdown",
   "metadata": {},
   "source": [
    "### In-control"
   ]
  },
  {
   "cell_type": "code",
   "execution_count": 4,
   "metadata": {},
   "outputs": [
    {
     "name": "stdout",
     "output_type": "stream",
     "text": [
      "('InControl', 'Profile', 'TriDiagonal', 'Normal', 'phi', '0.3', 'rho', '0.3')\n"
     ]
    },
    {
     "name": "stderr",
     "output_type": "stream",
     "text": [
      "100%|██████████| 200/200 [00:06<00:00, 31.95it/s]\n"
     ]
    }
   ],
   "source": [
    "seedid = 19940402\n",
    "np.random.seed(seedid)\n",
    "p = 200\n",
    "w = 5\n",
    "TrnLen = 200 # full scale is 50000\n",
    "ARL0= 1000\n",
    "mu0 = 5*np.ones(p)\n",
    "ControlType = 'InControl'\n",
    "DataType = 'Profile'\n",
    "DistType = 'Normal'\n",
    "rho = 0.3 \n",
    "CovType = 'TriDiagonal'\n",
    "phi = 0.3\n",
    "Tag = (ControlType,DataType,CovType,DistType,'phi',str(phi),'rho',str(rho))\n",
    "TagJoin = ''.join(Tag)\n",
    "print(Tag)\n",
    "trn = []\n",
    "Cov = getCov(rho,p,CovType)\n",
    "Phi = phi * np.eye(p)   \n",
    "\n",
    "eps0 = multivariate_normal.rvs(np.zeros(p), Cov)\n",
    "for i in tqdm(range(TrnLen)):\n",
    "    eps = np.matmul(Phi, eps0) + multivariate_normal.rvs(np.zeros(p), Cov)\n",
    "    trn.append(mu0 + eps)\n",
    "    eps0 = eps\n",
    "trn = np.array(trn)\n",
    "np.save(\"data/in-control/Trn\"+TagJoin+\".npy\", trn)"
   ]
  },
  {
   "cell_type": "markdown",
   "metadata": {},
   "source": [
    "### Out-of-control"
   ]
  },
  {
   "cell_type": "code",
   "execution_count": 5,
   "metadata": {},
   "outputs": [],
   "source": [
    "p = 200\n",
    "w = 5\n",
    "deltanorm = 2 # the norm of shift for Type1\n",
    "ShiftType = 'Sparse'\n",
    "\n",
    "if ShiftType == 'Sparse':\n",
    "    shift_basis = np.zeros(p) # sparse\n",
    "    shift_basis[18:23] = np.ones(5)\n",
    "    shift_basis = deltanorm/np.sqrt(np.sum(shift_basis**2))*shift_basis\n",
    "\n",
    "elif ShiftType == 'Stepwise':\n",
    "    shift_basis = np.zeros(p) # piece_1\n",
    "    shift_basis[50:100] = np.ones(50)\n",
    "    shift_basis[100:150] = 2 * np.ones(50)\n",
    "    shift_basis[150:200] = 3 * np.ones(50)\n",
    "    shift_basis = deltanorm/np.sqrt(np.sum(shift_basis**2))*shift_basis\n",
    "\n",
    "elif ShiftType == 'Zigzag':\n",
    "    shift_basis = np.zeros(p) # zigzag\n",
    "    left = 1\n",
    "    right = -1\n",
    "    for j in range(10):\n",
    "        shift_basis[j*20:(j+1)*20] = np.linspace(left, right, 20)\n",
    "        left, right = right, left\n",
    "    shift_basis = deltanorm/np.sqrt(np.sum(shift_basis**2))*shift_basis     \n"
   ]
  },
  {
   "cell_type": "code",
   "execution_count": 6,
   "metadata": {},
   "outputs": [
    {
     "name": "stdout",
     "output_type": "stream",
     "text": [
      "('OutControl', 'Profile', 'TriDiagonal', 'Normal', 'Sparse', 'phi', '0.3', 'rho', '0.3', 'deltanorm', '2')\n"
     ]
    },
    {
     "name": "stderr",
     "output_type": "stream",
     "text": [
      "100%|██████████| 5/5 [02:38<00:00, 31.74s/it]\n"
     ]
    }
   ],
   "source": [
    "seedid = 19940402\n",
    "np.random.seed(seedid)\n",
    "TrnLen = 1000 # length of sequence\n",
    "SeqNum = 5 # number of sequence, full scale is 1000\n",
    "ARL0 = 1000\n",
    "mu0 = 5*np.ones(p)\n",
    "mu1 = mu0+shift_basis\n",
    "ControlType = 'OutControl'\n",
    "DataType = 'Profile'\n",
    "DistType = 'Normal'\n",
    "rho = 0.3 \n",
    "CovType = 'TriDiagonal'\n",
    "phi = 0.3\n",
    "Tag = (ControlType,DataType,CovType,DistType,ShiftType,'phi',str(phi),'rho',str(rho),'deltanorm',str(deltanorm))\n",
    "TagJoin = ''.join(Tag)\n",
    "print(Tag)\n",
    "\n",
    "Cov = getCov(rho,p,CovType)\n",
    "Phi = phi * np.eye(p)   \n",
    "\n",
    "\n",
    "trn = []\n",
    "for n in tqdm(range(SeqNum)):\n",
    "    trn_seq = []\n",
    "    eps0 = multivariate_normal.rvs(np.zeros(p), Cov)\n",
    "    for i in range(TrnLen):\n",
    "        eps = np.matmul(Phi, eps0) + multivariate_normal.rvs(np.zeros(p), Cov)\n",
    "        trn_seq.append(mu1 + eps)\n",
    "        eps0 = eps\n",
    "    trn.append(trn_seq)\n",
    "trn = np.array(trn)\n",
    "\n",
    "np.save(\"data/out-of-control/Trn\"+TagJoin+\".npy\", trn)"
   ]
  },
  {
   "cell_type": "code",
   "execution_count": 73,
   "metadata": {},
   "outputs": [
    {
     "data": {
      "text/plain": [
       "(5, 1000, 200)"
      ]
     },
     "execution_count": 73,
     "metadata": {},
     "output_type": "execute_result"
    }
   ],
   "source": [
    "trn.shape #(numseq,lenseq,dimofprofile)"
   ]
  },
  {
   "cell_type": "markdown",
   "metadata": {},
   "source": [
    "## Type 2"
   ]
  },
  {
   "cell_type": "markdown",
   "metadata": {},
   "source": [
    "### In-control"
   ]
  },
  {
   "cell_type": "code",
   "execution_count": 7,
   "metadata": {},
   "outputs": [
    {
     "name": "stdout",
     "output_type": "stream",
     "text": [
      "TriDiagonal\n"
     ]
    },
    {
     "name": "stderr",
     "output_type": "stream",
     "text": [
      "100%|██████████| 200/200 [00:00<00:00, 232.81it/s]\n"
     ]
    }
   ],
   "source": [
    "seedid = 19940402\n",
    "np.random.seed(seedid)\n",
    "p = 200\n",
    "w = 100\n",
    "TrnLen = 200 # full scale is 30000\n",
    "ARL0 = 1000\n",
    "\n",
    "ControlType = 'InControl'\n",
    "DataType = 'Image'\n",
    "DistType = 'Normal'\n",
    "phi = 0.3\n",
    "rho = 0.3 \n",
    "Phi = phi * np.eye(p)\n",
    "m = 5*np.ones([w,p])\n",
    "CovType = 'TriDiagonal'\n",
    "\n",
    "TagN = (ControlType,DataType,CovType,'Normal','phi',str(phi),'rho',str(rho))\n",
    "TagNJoin = ''.join(TagN)\n",
    "TagE = (ControlType,DataType,CovType,'Exponential','phi',str(phi),'rho',str(rho))\n",
    "TagEJoin = ''.join(TagE)\n",
    "print(CovType)\n",
    "Covw = getCov(rho,w,CovType)\n",
    "Covp = getCov(rho,p,CovType)\n",
    "\n",
    "trnN = []\n",
    "trnE = []\n",
    "for i in tqdm(range(TrnLen)):\n",
    "    eps = matrix_normal.rvs(mean=np.zeros([w,p]), rowcov=Covw, colcov=Covp)\n",
    "    trnN.append(m + eps)\n",
    "    trnE.append(m + (-1 * np.log(1 - norm.cdf(eps))))\n",
    "trnN = np.array(trnN)\n",
    "trnE = np.array(trnE)\n",
    "\n",
    "np.save(\"data/in-control/Trn\"+TagNJoin+\".npy\", trnN)\n",
    "np.save(\"data/in-control/Trn\"+TagEJoin+\".npy\", trnE)"
   ]
  },
  {
   "cell_type": "markdown",
   "metadata": {},
   "source": [
    "### Out-of-control"
   ]
  },
  {
   "cell_type": "code",
   "execution_count": 11,
   "metadata": {},
   "outputs": [],
   "source": [
    "p = 200\n",
    "w = 100\n",
    "DeltaNorm = 10 # the norm of shift for Type2\n",
    "ShiftType = 'Chessboard'\n",
    "\n",
    "if ShiftType == 'Chessboard':\n",
    "    # Chessboard\n",
    "    shift_matrix = []\n",
    "    element = [[0, 1, 0, -1], [-1, 0, 1, 0]]\n",
    "    for i in range(w // 5):\n",
    "        row_element = element[i % 2]\n",
    "        row = []\n",
    "        for j in range(p // 10):\n",
    "            row += [row_element[j % 4]] * 10\n",
    "        shift_matrix += [row] * 5\n",
    "    shift_matrix = DeltaNorm / np.linalg.norm(shift_matrix) * np.array(shift_matrix)\n",
    "elif ShiftType == 'Sparse':\n",
    "    # Sparse\n",
    "    shift_matrix = np.zeros([w, p])\n",
    "    shift_matrix[8:13, 18:23] = np.ones([5, 5])\n",
    "\n",
    "    shift_matrix = np.zeros([w, p])\n",
    "    for i in range(99):\n",
    "        shift_matrix[i:(i+2), (2*i):(2*i+2)] = np.ones([2,2])\n",
    "\n",
    "    shift_matrix = np.zeros([w, p])\n",
    "    for i in range(25, 80):\n",
    "        j = int((i**2) * 100 / 80**2)\n",
    "        shift_matrix[i:(i+3), j:(j+3)] = np.ones([3,3])\n",
    "\n",
    "    u1 = np.linspace(1, -1, w)\n",
    "    v1 = np.linspace(1, 0, p)\n",
    "    shift_matrix = np.matmul(u1.reshape([w, 1]), v1.reshape([1, p]))\n",
    "    shift_matrix = DeltaNorm / np.linalg.norm(shift_matrix) * np.array(shift_matrix)\n",
    "elif ShiftType == 'Sine(row)':\n",
    "    # Sine (row)\n",
    "    shift_matrix = np.zeros([w, p])\n",
    "    for i in range(30):\n",
    "        shift_matrix[i,:] = np.sin(np.arange(0, p) * np.pi * 2 / 20)\n",
    "    for i in range(30, 60):\n",
    "        shift_matrix[i,:] = np.sin(np.arange(0, p) * np.pi * 4 / 20)\n",
    "    for i in range(60, 100):\n",
    "        shift_matrix[i,:] = np.sin(np.arange(0, p) * np.pi * 6 / 20)\n",
    "    shift_matrix = DeltaNorm / np.linalg.norm(shift_matrix) * np.array(shift_matrix)\n",
    "elif ShiftType == 'Sine(col)':\n",
    "    # Sine (column)\n",
    "    shift_matrix = np.zeros([w, p])\n",
    "    for i in range(60):\n",
    "        shift_matrix[:,i] = np.sin(np.arange(0, w) * np.pi * 2 / 10)\n",
    "    for i in range(60, 120):\n",
    "        shift_matrix[:,i] = np.sin(np.arange(0, w) * np.pi * 4 / 10)\n",
    "    for i in range(120, 200):\n",
    "        shift_matrix[:,i] = np.sin(np.arange(0, w) * np.pi * 6 / 10)\n",
    "    shift_matrix = DeltaNorm / np.linalg.norm(shift_matrix) * np.array(shift_matrix)\n",
    "elif ShiftType == 'Ring':\n",
    "    # Ring\n",
    "    shift_matrix = np.zeros([w, p])\n",
    "    for i in range(w):\n",
    "        for j in range(p):\n",
    "            if int(np.sqrt((i-50)**2 + (j-100)**2)) % 12 <= 3:\n",
    "                shift_matrix[i, j] = 1\n",
    "            elif int(np.sqrt((i-50)**2 + (j-100)**2)) % 12 >= 8:\n",
    "                shift_matrix[i, j] = -1\n",
    "    shift_matrix = DeltaNorm / np.linalg.norm(shift_matrix) * np.array(shift_matrix)"
   ]
  },
  {
   "cell_type": "code",
   "execution_count": 12,
   "metadata": {},
   "outputs": [
    {
     "name": "stdout",
     "output_type": "stream",
     "text": [
      "TriDiagonal\n"
     ]
    },
    {
     "name": "stderr",
     "output_type": "stream",
     "text": [
      "100%|██████████| 5/5 [00:00<00:00, 26.73it/s]\n"
     ]
    }
   ],
   "source": [
    "seedid = 19940402\n",
    "np.random.seed(seedid)\n",
    "TrnLen = 10 #30000\n",
    "SeqLen = 5 # full scale is 1000\n",
    "ARL0 = 1000\n",
    "\n",
    "ControlType = 'OutControl'\n",
    "DataType = 'Image'\n",
    "DistType = 'Normal'\n",
    "phi = 0.3\n",
    "rho = 0.3 \n",
    "Phi = phi * np.eye(p)\n",
    "m = 5*np.ones([w,p])\n",
    "CovType = 'TriDiagonal'\n",
    "\n",
    "TagN = (ControlType,DataType,CovType,ShiftType,'Normal','phi',str(phi),'rho',str(rho),'DeltaNorm',str(DeltaNorm))\n",
    "TagNJoin = ''.join(TagN)\n",
    "TagE = (ControlType,DataType,CovType,ShiftType,'Exponential','phi',str(phi),'rho',str(rho),'DeltaNorm',str(DeltaNorm))\n",
    "TagEJoin = ''.join(TagE)\n",
    "print(CovType)\n",
    "Covw = getCov(rho,w,CovType)\n",
    "Covp = getCov(rho,p,CovType)\n",
    "\n",
    "trnN = []\n",
    "trnE = []\n",
    "for n in tqdm(range(SeqLen)):\n",
    "    trnN_seq = []\n",
    "    trnE_seq = []\n",
    "    for i in range(TrnLen):\n",
    "        eps = matrix_normal.rvs(mean=np.zeros([w,p]), rowcov=Covw, colcov=Covp)\n",
    "        trnN_seq.append(m + eps)\n",
    "        trnE_seq.append(m + (-1 * np.log(1 - norm.cdf(eps))))\n",
    "    trnN.append(trnN_seq)\n",
    "    trnE.append(trnE_seq)\n",
    "\n",
    "trnN = np.array(trnN)\n",
    "trnE = np.array(trnE)\n",
    "\n",
    "np.save(\"data/out-of-control/Trn\"+TagNJoin+\".npy\", trnN)\n",
    "np.save(\"data/out-of-control/Trn\"+TagEJoin+\".npy\", trnE)    "
   ]
  },
  {
   "cell_type": "code",
   "execution_count": 13,
   "metadata": {},
   "outputs": [
    {
     "data": {
      "text/plain": [
       "(5, 10, 100, 200)"
      ]
     },
     "execution_count": 13,
     "metadata": {},
     "output_type": "execute_result"
    }
   ],
   "source": [
    "trnN.shape"
   ]
  },
  {
   "cell_type": "markdown",
   "metadata": {},
   "source": [
    "# MEWMA"
   ]
  },
  {
   "cell_type": "markdown",
   "metadata": {},
   "source": [
    "## Functions"
   ]
  },
  {
   "cell_type": "code",
   "execution_count": 25,
   "metadata": {},
   "outputs": [],
   "source": [
    "class MEWMA:\n",
    "    def __init__(self, target_arl0=1000, theta=0.2):\n",
    "        self.target_arl0 = target_arl0\n",
    "        self.theta = theta\n",
    "    \n",
    "    def w(self, j):\n",
    "        return (1 - np.power(1-self.theta, 2*j) + 2 * (self.phi*(1-self.theta) \n",
    "                                                      - np.power(self.phi*(1-self.theta), j)) / (1 - self.phi*(1-self.theta))\n",
    "                - 2 * (self.phi*np.power(1-self.theta, 2*j-1) - np.power(self.phi*(1-self.theta), j)) / (1 - self.phi/(1-self.theta)) )\n",
    "    \n",
    "    def setup(self, data_in, phi, sigma=1):\n",
    "        self.B = np.mean(data_in)\n",
    "        self.phi = phi\n",
    "        self.sigma = sigma\n",
    "        self.control_limit = 25\n",
    "    \n",
    "    def monitor(self, data, Y_0, max_RL=10000):\n",
    "        col_num = data.shape[1]\n",
    "        Z1 = np.mean(data[0]) - self.B\n",
    "        W1 = self.theta * Z1\n",
    "        Sigma = self.theta / (2-self.theta) * self.sigma**2 / (1 - self.phi**2) * self.w(1) / col_num\n",
    "        T2 = W1 * W1 / Sigma\n",
    "        self.RL = 1\n",
    "        while T2 <= self.control_limit and self.RL < len(data):\n",
    "            Z = np.mean(data[self.RL]) - self.B\n",
    "            W1 = self.theta * Z + (1 - self.theta) * W1\n",
    "            Sigma = self.theta / (2-self.theta) * self.sigma**2 / (1 - self.phi**2) * self.w(self.RL+1) / col_num\n",
    "            T2 = W1 * W1 / Sigma\n",
    "            self.RL += 1\n",
    "        new_data = data[-1]\n",
    "        while T2 <= self.control_limit and self.RL < max_RL:\n",
    "            new_data = self.phi * new_data + (1 - self.phi) * Y_0 + multivariate_normal.rvs(np.zeros(col_num), cov_error)\n",
    "            Z = np.mean(new_data) - self.B\n",
    "            W1 = self.theta * Z + (1 - self.theta) * W1\n",
    "            Sigma = self.theta / (2-self.theta) * self.sigma**2 / (1 - self.phi**2) * self.w(self.RL+1) / col_num\n",
    "            T2 = W1 * W1 / Sigma\n",
    "            self.RL += 1\n",
    "\n",
    "    def monitor_image(self, M, max_RL=10000):\n",
    "        col_num = M.shape[0] * M.shape[1]\n",
    "        data = matrix_normal.rvs(mean=M, rowcov=cov_row, colcov=cov_col, size=1).reshape(1, col_num)\n",
    "        Z1 = np.mean(data) - self.B\n",
    "        W1 = self.theta * Z1\n",
    "        Sigma = self.theta / (2-self.theta) * self.sigma**2 / (1 - self.phi**2) * self.w(1) / col_num\n",
    "        T2 = W1 * W1 / Sigma\n",
    "        self.RL = 1\n",
    "        while T2 <= self.control_limit and self.RL <= max_RL:\n",
    "            data = matrix_normal.rvs(mean=M, rowcov=cov_row, colcov=cov_col, size=1).reshape(1, col_num)\n",
    "            Z = np.mean(data) - self.B\n",
    "            W1 = self.theta * Z + (1 - self.theta) * W1\n",
    "            Sigma = self.theta / (2-self.theta) * self.sigma**2 / (1 - self.phi**2) * self.w(self.RL+1) / col_num\n",
    "            T2 = W1 * W1 / Sigma\n",
    "            self.RL += 1\n",
    "    \n",
    "    def monitor_exp_image(self, M, max_RL=10000):\n",
    "        col_num = M.shape[0] * M.shape[1]\n",
    "        norm_epsilon = matrix_normal.rvs(mean=np.zeros([w, p]), rowcov=cov_row, colcov=cov_col)\n",
    "        Y = M + (-1 * np.log(1 - norm.cdf(norm_epsilon)))\n",
    "        data = Y.reshape(1, col_num)\n",
    "        Z1 = np.mean(data) - self.B\n",
    "        W1 = self.theta * Z1\n",
    "        Sigma = self.theta / (2-self.theta) * self.sigma**2 / (1 - self.phi**2) * self.w(1) / col_num\n",
    "        T2 = W1 * W1 / Sigma\n",
    "        self.RL = 1\n",
    "        while T2 <= self.control_limit and self.RL <= max_RL:\n",
    "            norm_epsilon = matrix_normal.rvs(mean=np.zeros([w, p]), rowcov=cov_row, colcov=cov_col)\n",
    "            Y = M + (-1 * np.log(1 - norm.cdf(norm_epsilon)))\n",
    "            data = Y.reshape(1, col_num)\n",
    "            Z = np.mean(data) - self.B\n",
    "            W1 = self.theta * Z + (1 - self.theta) * W1\n",
    "            Sigma = self.theta / (2-self.theta) * self.sigma**2 / (1 - self.phi**2) * self.w(self.RL+1) / col_num\n",
    "            T2 = W1 * W1 / Sigma\n",
    "            self.RL += 1"
   ]
  },
  {
   "cell_type": "markdown",
   "metadata": {},
   "source": [
    "## Type 1"
   ]
  },
  {
   "cell_type": "code",
   "execution_count": 8,
   "metadata": {},
   "outputs": [
    {
     "data": {
      "text/plain": [
       "(200, 200)"
      ]
     },
     "execution_count": 8,
     "metadata": {},
     "output_type": "execute_result"
    }
   ],
   "source": [
    "seedid = 19940402\n",
    "np.random.seed(seedid)\n",
    "p = 200\n",
    "w = 5\n",
    "TrnLen = 10 #50000\n",
    "ARL0=1000\n",
    "mu0 = 5*np.ones(p)\n",
    "ControlType = 'InControl'\n",
    "DataType = 'Profile'\n",
    "DistType = 'Normal'\n",
    "rho = 0.3 \n",
    "CovType = 'Tridiagonal'\n",
    "phi = 0.3\n",
    "Tag = (ControlType,DataType,CovType,DistType,'phi',str(phi),'rho',str(rho))\n",
    "TagJoin = ''.join(Tag)\n",
    "data_in = np.load(\"data/in-control/Trn\"+TagJoin+\".npy\")\n",
    "data_in.shape"
   ]
  },
  {
   "cell_type": "code",
   "execution_count": 9,
   "metadata": {},
   "outputs": [
    {
     "name": "stdout",
     "output_type": "stream",
     "text": [
      "('OutControl', 'Profile', 'TriDiagonal', 'Normal', 'Sparse', 'phi', '0.3', 'rho', '0.3', 'deltanorm', '2')\n"
     ]
    },
    {
     "data": {
      "text/plain": [
       "(5, 1000, 200)"
      ]
     },
     "execution_count": 9,
     "metadata": {},
     "output_type": "execute_result"
    }
   ],
   "source": [
    "ControlType = 'OutControl'\n",
    "DataType = 'Profile'\n",
    "DistType = 'Normal'\n",
    "rho = 0.3 \n",
    "CovType = 'TriDiagonal'\n",
    "phi = 0.3\n",
    "deltanorm = 2 # the norm of shift for Type1\n",
    "ShiftType = 'Sparse'\n",
    "\n",
    "Tag = (ControlType,DataType,CovType,DistType,ShiftType,'phi',str(phi),'rho',str(rho),'deltanorm',str(deltanorm))\n",
    "TagJoin = ''.join(Tag)\n",
    "print(Tag)\n",
    "data_out = np.load(\"data/out-of-control/Trn\"+TagJoin+\".npy\")\n",
    "data_out.shape"
   ]
  },
  {
   "cell_type": "code",
   "execution_count": 29,
   "metadata": {},
   "outputs": [],
   "source": [
    "mewma = MEWMA(theta=0.1)\n",
    "mewma.setup(data_in, phi)\n",
    "mewma.control_limit = 14.12 # refer to Table 1 in paper"
   ]
  },
  {
   "cell_type": "code",
   "execution_count": 32,
   "metadata": {},
   "outputs": [
    {
     "name": "stderr",
     "output_type": "stream",
     "text": [
      "100%|██████████| 5/5 [00:00<00:00, 129.42it/s]\n"
     ]
    }
   ],
   "source": [
    "cov_error = getCov(rho, p, CovType)\n",
    "RL = []\n",
    "for i in tqdm(range(len(data_out))):\n",
    "    mewma.monitor(data_out[i],5*np.ones(p),max_RL=10000) \n",
    "    RL.append(mewma.RL)"
   ]
  },
  {
   "cell_type": "code",
   "execution_count": 33,
   "metadata": {},
   "outputs": [
    {
     "data": {
      "text/plain": [
       "[473.6, 179.7983314716797]"
      ]
     },
     "execution_count": 33,
     "metadata": {},
     "output_type": "execute_result"
    }
   ],
   "source": [
    "[np.mean(RL), np.std(RL)]"
   ]
  },
  {
   "cell_type": "markdown",
   "metadata": {},
   "source": [
    "## Type 2"
   ]
  },
  {
   "cell_type": "code",
   "execution_count": 34,
   "metadata": {},
   "outputs": [
    {
     "data": {
      "text/plain": [
       "(200, 100, 200)"
      ]
     },
     "execution_count": 34,
     "metadata": {},
     "output_type": "execute_result"
    }
   ],
   "source": [
    "ControlType = 'InControl'\n",
    "DataType = 'Image'\n",
    "DistType = 'Normal'\n",
    "phi = 0.3\n",
    "rho = 0.3 \n",
    "Phi = phi * np.eye(p)\n",
    "m = 5*np.ones([w,p])\n",
    "CovType = 'TriDiagonal'\n",
    "DeltaNorm = 10 # the norm of shift for Type2\n",
    "ShiftType = 'Chessboard'\n",
    "\n",
    "TagN = (ControlType,DataType,CovType,'Normal','phi',str(phi),'rho',str(rho))\n",
    "TagNJoin = ''.join(TagN)\n",
    "\n",
    "data_in = np.load(\"data/in-control/Trn\"+TagNJoin+\".npy\")\n",
    "TrnLen,w,p = data_in.shape\n",
    "TrnLen,w,p"
   ]
  },
  {
   "cell_type": "code",
   "execution_count": 35,
   "metadata": {},
   "outputs": [
    {
     "data": {
      "text/plain": [
       "(20000, 200)"
      ]
     },
     "execution_count": 35,
     "metadata": {},
     "output_type": "execute_result"
    }
   ],
   "source": [
    "data_in = data_in.reshape(TrnLen*w,p)\n",
    "data_in.shape"
   ]
  },
  {
   "cell_type": "code",
   "execution_count": 40,
   "metadata": {},
   "outputs": [],
   "source": [
    "mewma = MEWMA(theta=0.1)\n",
    "mewma.setup(data_in.reshape(200, 200*100), 0) \n",
    "# full scale: mewma.setup(data_in.reshape(30000, 200*100), 0)\n",
    "mewma.control_limit = 23.74 # refer to table 1"
   ]
  },
  {
   "cell_type": "code",
   "execution_count": 41,
   "metadata": {},
   "outputs": [],
   "source": [
    "DeltaNorm = 10 # the norm of shift for Type2\n",
    "ShiftType = 'Chessboard'\n",
    "\n",
    "if ShiftType == 'Chessboard':\n",
    "    # Chessboard\n",
    "    shift_matrix = []\n",
    "    element = [[0, 1, 0, -1], [-1, 0, 1, 0]]\n",
    "    for i in range(w // 5):\n",
    "        row_element = element[i % 2]\n",
    "        row = []\n",
    "        for j in range(p // 10):\n",
    "            row += [row_element[j % 4]] * 10\n",
    "        shift_matrix += [row] * 5\n",
    "    shift_matrix = DeltaNorm / np.linalg.norm(shift_matrix) * np.array(shift_matrix)\n",
    "elif ShiftType == 'Sparse':\n",
    "    # Sparse\n",
    "    shift_matrix = np.zeros([w, p])\n",
    "    shift_matrix[8:13, 18:23] = np.ones([5, 5])\n",
    "\n",
    "    shift_matrix = np.zeros([w, p])\n",
    "    for i in range(99):\n",
    "        shift_matrix[i:(i+2), (2*i):(2*i+2)] = np.ones([2,2])\n",
    "\n",
    "    shift_matrix = np.zeros([w, p])\n",
    "    for i in range(25, 80):\n",
    "        j = int((i**2) * 100 / 80**2)\n",
    "        shift_matrix[i:(i+3), j:(j+3)] = np.ones([3,3])\n",
    "\n",
    "    u1 = np.linspace(1, -1, w)\n",
    "    v1 = np.linspace(1, 0, p)\n",
    "    shift_matrix = np.matmul(u1.reshape([w, 1]), v1.reshape([1, p]))\n",
    "    shift_matrix = DeltaNorm / np.linalg.norm(shift_matrix) * np.array(shift_matrix)\n",
    "elif ShiftType == 'Sine(row)':\n",
    "    # Sine (row)\n",
    "    shift_matrix = np.zeros([w, p])\n",
    "    for i in range(30):\n",
    "        shift_matrix[i,:] = np.sin(np.arange(0, p) * np.pi * 2 / 20)\n",
    "    for i in range(30, 60):\n",
    "        shift_matrix[i,:] = np.sin(np.arange(0, p) * np.pi * 4 / 20)\n",
    "    for i in range(60, 100):\n",
    "        shift_matrix[i,:] = np.sin(np.arange(0, p) * np.pi * 6 / 20)\n",
    "    shift_matrix = DeltaNorm / np.linalg.norm(shift_matrix) * np.array(shift_matrix)\n",
    "elif ShiftType == 'Sine(col)':\n",
    "    # Sine (column)\n",
    "    shift_matrix = np.zeros([w, p])\n",
    "    for i in range(60):\n",
    "        shift_matrix[:,i] = np.sin(np.arange(0, w) * np.pi * 2 / 10)\n",
    "    for i in range(60, 120):\n",
    "        shift_matrix[:,i] = np.sin(np.arange(0, w) * np.pi * 4 / 10)\n",
    "    for i in range(120, 200):\n",
    "        shift_matrix[:,i] = np.sin(np.arange(0, w) * np.pi * 6 / 10)\n",
    "    shift_matrix = DeltaNorm / np.linalg.norm(shift_matrix) * np.array(shift_matrix)\n",
    "elif ShiftType == 'Ring':\n",
    "    # Ring\n",
    "    shift_matrix = np.zeros([w, p])\n",
    "    for i in range(w):\n",
    "        for j in range(p):\n",
    "            if int(np.sqrt((i-50)**2 + (j-100)**2)) % 12 <= 3:\n",
    "                shift_matrix[i, j] = 1\n",
    "            elif int(np.sqrt((i-50)**2 + (j-100)**2)) % 12 >= 8:\n",
    "                shift_matrix[i, j] = -1\n",
    "    shift_matrix = DeltaNorm / np.linalg.norm(shift_matrix) * np.array(shift_matrix)\n",
    "\n",
    "M_shifted = 5*np.ones([w,p])+shift_matrix"
   ]
  },
  {
   "cell_type": "code",
   "execution_count": 49,
   "metadata": {},
   "outputs": [
    {
     "name": "stderr",
     "output_type": "stream",
     "text": [
      "100%|██████████| 5/5 [00:12<00:00,  2.59s/it]\n"
     ]
    }
   ],
   "source": [
    "cov_col = getCov(phi, p, CovType)\n",
    "cov_row = getCov(phi, w, CovType)\n",
    "RL = []\n",
    "for i in tqdm(range(5)):\n",
    "#     np.random.seed(20170225 + i)  # comment when testing ARL1\n",
    "    mewma.monitor_image(M_shifted, max_RL=10000)\n",
    "    RL.append(mewma.RL)\n",
    "#     if len(RL) % 100 == 0:\n",
    "#         print(np.mean(RL))"
   ]
  },
  {
   "cell_type": "code",
   "execution_count": 50,
   "metadata": {},
   "outputs": [
    {
     "data": {
      "text/plain": [
       "(1007.8, 812.4955138337688)"
      ]
     },
     "execution_count": 50,
     "metadata": {},
     "output_type": "execute_result"
    }
   ],
   "source": [
    "np.mean(RL), np.std(RL)"
   ]
  },
  {
   "cell_type": "code",
   "execution_count": null,
   "metadata": {},
   "outputs": [],
   "source": []
  }
 ],
 "metadata": {
  "kernelspec": {
   "display_name": "Python 3.8.8 ('base')",
   "language": "python",
   "name": "python3"
  },
  "language_info": {
   "codemirror_mode": {
    "name": "ipython",
    "version": 3
   },
   "file_extension": ".py",
   "mimetype": "text/x-python",
   "name": "python",
   "nbconvert_exporter": "python",
   "pygments_lexer": "ipython3",
   "version": "3.8.8"
  },
  "orig_nbformat": 4,
  "vscode": {
   "interpreter": {
    "hash": "8ff70b884d003b5461196a04cb9410cf6794bf8e99aaa5d8c96ca3c62e7e7728"
   }
  }
 },
 "nbformat": 4,
 "nbformat_minor": 2
}
