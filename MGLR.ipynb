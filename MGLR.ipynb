{
 "cells": [
  {
   "cell_type": "code",
   "execution_count": 2,
   "metadata": {},
   "outputs": [],
   "source": [
    "import numpy as np\n",
    "from tqdm import tqdm\n",
    "from scipy.stats import multivariate_normal, matrix_normal, norm"
   ]
  },
  {
   "cell_type": "markdown",
   "metadata": {},
   "source": [
    "# Data generation"
   ]
  },
  {
   "cell_type": "code",
   "execution_count": 3,
   "metadata": {},
   "outputs": [],
   "source": [
    "# setting\n",
    "ControlList = ['InControl','OutControl']\n",
    "DataTypeList = ['Profile','Image']\n",
    "CovList = ['TriDiagonal','Exponential']\n",
    "DistList = ['Normal','Exponential']\n",
    "phiList = [0.3, 0.7]\n",
    "rhoList = [0.3]"
   ]
  },
  {
   "cell_type": "code",
   "execution_count": 4,
   "metadata": {},
   "outputs": [],
   "source": [
    "def getCov(rho, p, type):\n",
    "    Sigma = np.eye(p)\n",
    "    if type == CovList[0]:\n",
    "        tmp = np.ones(p-1)*rho\n",
    "        Sigma = Sigma+np.diag(tmp, k = 1)+np.diag(tmp, k = -1)\n",
    "    elif type == CovList[1]:\n",
    "        for d in range(1, p-1):\n",
    "            tmp = np.ones(p-d)*(rho**d)\n",
    "            Sigma = Sigma+np.diag(tmp, k = d)+np.diag(tmp, k = -d)\n",
    "    return Sigma"
   ]
  },
  {
   "cell_type": "markdown",
   "metadata": {},
   "source": [
    "## Type 1"
   ]
  },
  {
   "cell_type": "markdown",
   "metadata": {},
   "source": [
    "### In-control"
   ]
  },
  {
   "cell_type": "code",
   "execution_count": 52,
   "metadata": {},
   "outputs": [
    {
     "name": "stdout",
     "output_type": "stream",
     "text": [
      "('InControl', 'Profile', 'TriDiagonal', 'Normal', 'phi', '0.3', 'rho', '0.3')\n"
     ]
    },
    {
     "name": "stderr",
     "output_type": "stream",
     "text": [
      "100%|██████████| 1000/1000 [00:30<00:00, 32.34it/s]\n"
     ]
    }
   ],
   "source": [
    "seedid = 19940402\n",
    "np.random.seed(seedid)\n",
    "p = 200\n",
    "w = 5\n",
    "TrnLen = 1000 # full scale is 50000\n",
    "ARL0= 1000\n",
    "mu0 = 5*np.ones(p)\n",
    "ControlType = 'InControl'\n",
    "DataType = 'Profile'\n",
    "DistType = 'Normal'\n",
    "rho = 0.3 \n",
    "CovType = 'TriDiagonal'\n",
    "phi = 0.3\n",
    "Tag = (ControlType,DataType,CovType,DistType,'phi',str(phi),'rho',str(rho))\n",
    "TagJoin = ''.join(Tag)\n",
    "print(Tag)\n",
    "trn = []\n",
    "Cov = getCov(rho,p,CovType)\n",
    "Phi = phi * np.eye(p)   \n",
    "\n",
    "eps0 = multivariate_normal.rvs(np.zeros(p), Cov)\n",
    "for i in tqdm(range(TrnLen)):\n",
    "    eps = np.matmul(Phi, eps0) + multivariate_normal.rvs(np.zeros(p), Cov)\n",
    "    trn.append(mu0 + eps)\n",
    "    eps0 = eps\n",
    "trn = np.array(trn)\n",
    "np.save(\"data/in-control/Trn\"+TagJoin+\".npy\", trn)"
   ]
  },
  {
   "cell_type": "markdown",
   "metadata": {},
   "source": [
    "### Out-of-control"
   ]
  },
  {
   "cell_type": "code",
   "execution_count": 13,
   "metadata": {},
   "outputs": [],
   "source": [
    "p = 200\n",
    "w = 5\n",
    "deltanorm = 2 # the norm of shift for Type1\n",
    "ShiftType = 'Sparse'\n",
    "\n",
    "if ShiftType == 'Sparse':\n",
    "    shift_basis = np.zeros(p) # sparse\n",
    "    shift_basis[18:23] = np.ones(5)\n",
    "    shift_basis = deltanorm/np.sqrt(np.sum(shift_basis**2))*shift_basis\n",
    "\n",
    "elif ShiftType == 'Stepwise':\n",
    "    shift_basis = np.zeros(p) # piece_1\n",
    "    shift_basis[50:100] = np.ones(50)\n",
    "    shift_basis[100:150] = 2 * np.ones(50)\n",
    "    shift_basis[150:200] = 3 * np.ones(50)\n",
    "    shift_basis = deltanorm/np.sqrt(np.sum(shift_basis**2))*shift_basis\n",
    "\n",
    "elif ShiftType == 'Zigzag':\n",
    "    shift_basis = np.zeros(p) # zigzag\n",
    "    left = 1\n",
    "    right = -1\n",
    "    for j in range(10):\n",
    "        shift_basis[j*20:(j+1)*20] = np.linspace(left, right, 20)\n",
    "        left, right = right, left\n",
    "    shift_basis = deltanorm/np.sqrt(np.sum(shift_basis**2))*shift_basis     \n"
   ]
  },
  {
   "cell_type": "code",
   "execution_count": 30,
   "metadata": {},
   "outputs": [
    {
     "name": "stdout",
     "output_type": "stream",
     "text": [
      "('OutControl', 'Profile', 'TriDiagonal', 'Normal', 'Sparse', 'phi', '0.3', 'rho', '0.3', 'deltanorm', '2')\n"
     ]
    },
    {
     "name": "stderr",
     "output_type": "stream",
     "text": [
      "100%|██████████| 10/10 [04:52<00:00, 29.30s/it]\n"
     ]
    }
   ],
   "source": [
    "seedid = 19940402\n",
    "# np.random.seed(seedid)\n",
    "TrnLen = 1000 # length of sequence\n",
    "SeqNum = 10 # number of sequence, full scale is 1000\n",
    "ARL0 = 1000\n",
    "mu0 = 5*np.ones(p)\n",
    "mu1 = mu0+shift_basis\n",
    "ControlType = 'OutControl'\n",
    "DataType = 'Profile'\n",
    "DistType = 'Normal'\n",
    "rho = 0.3 \n",
    "CovType = 'TriDiagonal'\n",
    "phi = 0.3\n",
    "Tag = (ControlType,DataType,CovType,DistType,ShiftType,'phi',str(phi),'rho',str(rho),'deltanorm',str(deltanorm))\n",
    "TagJoin = ''.join(Tag)\n",
    "print(Tag)\n",
    "\n",
    "Cov = getCov(rho,p,CovType)\n",
    "Phi = phi * np.eye(p)   \n",
    "\n",
    "\n",
    "trn = []\n",
    "for n in tqdm(range(SeqNum)):\n",
    "    trn_seq = []\n",
    "    eps0 = multivariate_normal.rvs(np.zeros(p), Cov)\n",
    "    for i in range(TrnLen):\n",
    "        eps = np.matmul(Phi, eps0) + multivariate_normal.rvs(np.zeros(p), Cov)\n",
    "        trn_seq.append(mu1 + eps)\n",
    "        eps0 = eps\n",
    "    trn.append(trn_seq)\n",
    "trn = np.array(trn)\n",
    "\n",
    "np.save(\"data/out-of-control/Trn\"+TagJoin+\".npy\", trn)"
   ]
  },
  {
   "cell_type": "code",
   "execution_count": 31,
   "metadata": {},
   "outputs": [
    {
     "data": {
      "text/plain": [
       "(10, 1000, 200)"
      ]
     },
     "execution_count": 31,
     "metadata": {},
     "output_type": "execute_result"
    }
   ],
   "source": [
    "trn.shape #(numseq,lenseq,dimofprofile)"
   ]
  },
  {
   "cell_type": "markdown",
   "metadata": {},
   "source": [
    "## Type 2"
   ]
  },
  {
   "cell_type": "markdown",
   "metadata": {},
   "source": [
    "### In-control"
   ]
  },
  {
   "cell_type": "code",
   "execution_count": 70,
   "metadata": {},
   "outputs": [
    {
     "name": "stdout",
     "output_type": "stream",
     "text": [
      "TriDiagonal\n"
     ]
    },
    {
     "name": "stderr",
     "output_type": "stream",
     "text": [
      "  0%|          | 0/4000 [00:00<?, ?it/s]"
     ]
    },
    {
     "name": "stderr",
     "output_type": "stream",
     "text": [
      "100%|██████████| 4000/4000 [00:14<00:00, 281.99it/s]\n"
     ]
    }
   ],
   "source": [
    "seedid = 19940402\n",
    "np.random.seed(seedid)\n",
    "p = 200\n",
    "w = 100\n",
    "TrnLen = 4000 # full scale is 30000\n",
    "ARL0 = 1000\n",
    "\n",
    "ControlType = 'InControl'\n",
    "DataType = 'Image'\n",
    "DistType = 'Normal'\n",
    "phi = 0.3\n",
    "rho = 0.3 \n",
    "Phi = phi * np.eye(p)\n",
    "m = 5*np.ones([w,p])\n",
    "CovType = 'TriDiagonal'\n",
    "\n",
    "TagN = (ControlType,DataType,CovType,'Normal','phi',str(phi),'rho',str(rho))\n",
    "TagNJoin = ''.join(TagN)\n",
    "TagE = (ControlType,DataType,CovType,'Exponential','phi',str(phi),'rho',str(rho))\n",
    "TagEJoin = ''.join(TagE)\n",
    "print(CovType)\n",
    "Covw = getCov(rho,w,CovType)\n",
    "Covp = getCov(rho,p,CovType)\n",
    "\n",
    "trnN = []\n",
    "trnE = []\n",
    "for i in tqdm(range(TrnLen)):\n",
    "    eps = matrix_normal.rvs(mean=np.zeros([w,p]), rowcov=Covw, colcov=Covp)\n",
    "    trnN.append(m + eps)\n",
    "    trnE.append(m + (-1 * np.log(1 - norm.cdf(eps))))\n",
    "trnN = np.array(trnN)\n",
    "trnE = np.array(trnE)\n",
    "\n",
    "np.save(\"data/in-control/Trn\"+TagNJoin+\".npy\", trnN)\n",
    "np.save(\"data/in-control/Trn\"+TagEJoin+\".npy\", trnE)"
   ]
  },
  {
   "cell_type": "markdown",
   "metadata": {},
   "source": [
    "### Out-of-control"
   ]
  },
  {
   "cell_type": "code",
   "execution_count": 11,
   "metadata": {},
   "outputs": [],
   "source": [
    "p = 200\n",
    "w = 100\n",
    "DeltaNorm = 10 # the norm of shift for Type2\n",
    "ShiftType = 'Chessboard'\n",
    "\n",
    "if ShiftType == 'Chessboard':\n",
    "    # Chessboard\n",
    "    shift_matrix = []\n",
    "    element = [[0, 1, 0, -1], [-1, 0, 1, 0]]\n",
    "    for i in range(w // 5):\n",
    "        row_element = element[i % 2]\n",
    "        row = []\n",
    "        for j in range(p // 10):\n",
    "            row += [row_element[j % 4]] * 10\n",
    "        shift_matrix += [row] * 5\n",
    "    shift_matrix = DeltaNorm / np.linalg.norm(shift_matrix) * np.array(shift_matrix)\n",
    "elif ShiftType == 'Sparse':\n",
    "    # Sparse\n",
    "    shift_matrix = np.zeros([w, p])\n",
    "    shift_matrix[8:13, 18:23] = np.ones([5, 5])\n",
    "\n",
    "    shift_matrix = np.zeros([w, p])\n",
    "    for i in range(99):\n",
    "        shift_matrix[i:(i+2), (2*i):(2*i+2)] = np.ones([2,2])\n",
    "\n",
    "    shift_matrix = np.zeros([w, p])\n",
    "    for i in range(25, 80):\n",
    "        j = int((i**2) * 100 / 80**2)\n",
    "        shift_matrix[i:(i+3), j:(j+3)] = np.ones([3,3])\n",
    "\n",
    "    u1 = np.linspace(1, -1, w)\n",
    "    v1 = np.linspace(1, 0, p)\n",
    "    shift_matrix = np.matmul(u1.reshape([w, 1]), v1.reshape([1, p]))\n",
    "    shift_matrix = DeltaNorm / np.linalg.norm(shift_matrix) * np.array(shift_matrix)\n",
    "elif ShiftType == 'Sine(row)':\n",
    "    # Sine (row)\n",
    "    shift_matrix = np.zeros([w, p])\n",
    "    for i in range(30):\n",
    "        shift_matrix[i,:] = np.sin(np.arange(0, p) * np.pi * 2 / 20)\n",
    "    for i in range(30, 60):\n",
    "        shift_matrix[i,:] = np.sin(np.arange(0, p) * np.pi * 4 / 20)\n",
    "    for i in range(60, 100):\n",
    "        shift_matrix[i,:] = np.sin(np.arange(0, p) * np.pi * 6 / 20)\n",
    "    shift_matrix = DeltaNorm / np.linalg.norm(shift_matrix) * np.array(shift_matrix)\n",
    "elif ShiftType == 'Sine(col)':\n",
    "    # Sine (column)\n",
    "    shift_matrix = np.zeros([w, p])\n",
    "    for i in range(60):\n",
    "        shift_matrix[:,i] = np.sin(np.arange(0, w) * np.pi * 2 / 10)\n",
    "    for i in range(60, 120):\n",
    "        shift_matrix[:,i] = np.sin(np.arange(0, w) * np.pi * 4 / 10)\n",
    "    for i in range(120, 200):\n",
    "        shift_matrix[:,i] = np.sin(np.arange(0, w) * np.pi * 6 / 10)\n",
    "    shift_matrix = DeltaNorm / np.linalg.norm(shift_matrix) * np.array(shift_matrix)\n",
    "elif ShiftType == 'Ring':\n",
    "    # Ring\n",
    "    shift_matrix = np.zeros([w, p])\n",
    "    for i in range(w):\n",
    "        for j in range(p):\n",
    "            if int(np.sqrt((i-50)**2 + (j-100)**2)) % 12 <= 3:\n",
    "                shift_matrix[i, j] = 1\n",
    "            elif int(np.sqrt((i-50)**2 + (j-100)**2)) % 12 >= 8:\n",
    "                shift_matrix[i, j] = -1\n",
    "    shift_matrix = DeltaNorm / np.linalg.norm(shift_matrix) * np.array(shift_matrix)"
   ]
  },
  {
   "cell_type": "code",
   "execution_count": 12,
   "metadata": {},
   "outputs": [
    {
     "name": "stdout",
     "output_type": "stream",
     "text": [
      "TriDiagonal\n"
     ]
    },
    {
     "name": "stderr",
     "output_type": "stream",
     "text": [
      "100%|██████████| 5/5 [00:00<00:00, 26.73it/s]\n"
     ]
    }
   ],
   "source": [
    "seedid = 19940402\n",
    "np.random.seed(seedid)\n",
    "TrnLen = 10 #30000\n",
    "SeqLen = 5 # full scale is 1000\n",
    "ARL0 = 1000\n",
    "\n",
    "ControlType = 'OutControl'\n",
    "DataType = 'Image'\n",
    "DistType = 'Normal'\n",
    "phi = 0.3\n",
    "rho = 0.3 \n",
    "Phi = phi * np.eye(p)\n",
    "m = 5*np.ones([w,p])\n",
    "CovType = 'TriDiagonal'\n",
    "\n",
    "TagN = (ControlType,DataType,CovType,ShiftType,'Normal','phi',str(phi),'rho',str(rho),'DeltaNorm',str(DeltaNorm))\n",
    "TagNJoin = ''.join(TagN)\n",
    "TagE = (ControlType,DataType,CovType,ShiftType,'Exponential','phi',str(phi),'rho',str(rho),'DeltaNorm',str(DeltaNorm))\n",
    "TagEJoin = ''.join(TagE)\n",
    "print(CovType)\n",
    "Covw = getCov(rho,w,CovType)\n",
    "Covp = getCov(rho,p,CovType)\n",
    "\n",
    "trnN = []\n",
    "trnE = []\n",
    "for n in tqdm(range(SeqLen)):\n",
    "    trnN_seq = []\n",
    "    trnE_seq = []\n",
    "    for i in range(TrnLen):\n",
    "        eps = matrix_normal.rvs(mean=np.zeros([w,p]), rowcov=Covw, colcov=Covp)\n",
    "        trnN_seq.append(m + eps)\n",
    "        trnE_seq.append(m + (-1 * np.log(1 - norm.cdf(eps))))\n",
    "    trnN.append(trnN_seq)\n",
    "    trnE.append(trnE_seq)\n",
    "\n",
    "trnN = np.array(trnN)\n",
    "trnE = np.array(trnE)\n",
    "\n",
    "np.save(\"data/out-of-control/Trn\"+TagNJoin+\".npy\", trnN)\n",
    "np.save(\"data/out-of-control/Trn\"+TagEJoin+\".npy\", trnE)    "
   ]
  },
  {
   "cell_type": "code",
   "execution_count": 13,
   "metadata": {},
   "outputs": [
    {
     "data": {
      "text/plain": [
       "(5, 10, 100, 200)"
      ]
     },
     "execution_count": 13,
     "metadata": {},
     "output_type": "execute_result"
    }
   ],
   "source": [
    "trnN.shape"
   ]
  },
  {
   "cell_type": "markdown",
   "metadata": {},
   "source": [
    "# MGLR"
   ]
  },
  {
   "cell_type": "markdown",
   "metadata": {},
   "source": [
    "## Functions"
   ]
  },
  {
   "cell_type": "code",
   "execution_count": 32,
   "metadata": {},
   "outputs": [],
   "source": [
    "class MGLR:\n",
    "    def __init__(self, target_arl0 = 1000, region_row=5, region_col=20, m=10, window_size=5, skip_row=0):\n",
    "        self.target_arl0 = target_arl0\n",
    "        self.region_row = region_row\n",
    "        self.region_col = region_col\n",
    "        self.m = m\n",
    "        self.window_size = window_size\n",
    "        self.skip_row = skip_row\n",
    "    \n",
    "    def getX(self, Y):\n",
    "        X = []\n",
    "        for i in range(len(Y) // self.region_row):\n",
    "            for j in range(len(Y[0]) // self.region_col):\n",
    "                X.append(np.mean(Y[(i*self.region_row):((i+1)*self.region_row), (j*self.region_col):((j+1)*self.region_col)]))\n",
    "        return X\n",
    "        \n",
    "    \n",
    "    def setup(self, data_in):\n",
    "        col_num = data_in.shape[1]\n",
    "#         self.M0 = np.zeros([self.window_size, col_num])\n",
    "#         for i in np.arange(0, data_in.shape[0] - self.window_size + 1, self.skip_row + 1):\n",
    "#             self.M0 += data_in[i:(i+self.window_size)]\n",
    "#         self.M0 /= (data_in.shape[0] - self.window_size + 1) // (self.skip_row + 1)\n",
    "        self.M0 = 5 * np.ones([self.window_size, col_num])\n",
    "        \n",
    "        X = []\n",
    "        for i in np.arange(0, data_in.shape[0] - self.window_size + 1, self.skip_row + 1):\n",
    "            Y = data_in[i:(i+self.window_size)]\n",
    "            X.append(self.getX(Y-self.M0))\n",
    "        self.mu0 = np.mean(X, axis=0)\n",
    "        self.inv_sigma0 = np.linalg.inv(np.cov(X, rowvar=False))\n",
    "        self.control_limit = 79.39\n",
    "        \n",
    "        \n",
    "    def monitor(self, data, Y_0, max_RL=10000):\n",
    "        col_num = data.shape[1]\n",
    "        X = []\n",
    "        mlr = 0\n",
    "        k = 0\n",
    "        i = 0\n",
    "        self.RL = 0\n",
    "        while mlr <= self.control_limit and self.RL <= max_RL:\n",
    "            if i + self.window_size > len(data):\n",
    "                Y = Y[(self.skip_row+1):]\n",
    "                while len(Y) < self.window_size:\n",
    "                    Y = np.append(Y, [Phi[0,0] * Y[-1] + (1 - Phi[0,0]) * Y_0 \n",
    "                                      + multivariate_normal.rvs(np.zeros(col_num), cov_error)], axis=0)\n",
    "            else:\n",
    "                Y = data[i:(i+self.window_size)]\n",
    "            k += 1\n",
    "            X.append(self.getX(Y-self.M0))\n",
    "            lr = []\n",
    "            for tau in range(max([0, k-self.m]), k):\n",
    "                mu1 = np.sum(X[(tau):], 0) / (k-tau)\n",
    "                diff = mu1 - self.mu0\n",
    "                lr.append((k-tau)/2 * np.matmul(np.matmul(diff.T, self.inv_sigma0), diff))\n",
    "            mlr = np.max(lr)\n",
    "            self.RL += 1\n",
    "            i += self.skip_row + 1\n",
    "    \n",
    "    def monitor_image(self, M, max_RL=10000):\n",
    "        X = []\n",
    "        mlr = 0\n",
    "        k = 0\n",
    "        self.RL = 0\n",
    "        while mlr <= self.control_limit and self.RL <= max_RL:\n",
    "            k += 1\n",
    "            Y = matrix_normal.rvs(mean=M, rowcov=cov_row, colcov=cov_col, size=1)\n",
    "            X.append(self.getX(Y-self.M0))\n",
    "            lr = []\n",
    "            for tau in range(max([0, k-self.m]), k):\n",
    "                mu1 = np.sum(X[(tau):], 0) / (k-tau)\n",
    "                diff = mu1 - self.mu0\n",
    "                lr.append((k-tau)/2 * np.matmul(np.matmul(diff.T, self.inv_sigma0), diff))\n",
    "            mlr = np.max(lr)\n",
    "            self.RL += 1\n",
    "    \n",
    "    def monitor_exp_image(self, M, max_RL=10000):\n",
    "        X = []\n",
    "        mlr = 0\n",
    "        k = 0\n",
    "        self.RL = 0\n",
    "        while mlr <= self.control_limit and self.RL <= max_RL:\n",
    "            k += 1\n",
    "            norm_epsilon = matrix_normal.rvs(mean=np.zeros([w, p]), rowcov=cov_row, colcov=cov_col)\n",
    "            Y = M + (-1 * np.log(1 - norm.cdf(norm_epsilon)))\n",
    "            X.append(self.getX(Y-self.M0))\n",
    "            lr = []\n",
    "            for tau in range(max([0, k-self.m]), k):\n",
    "                mu1 = np.sum(X[(tau):], 0) / (k-tau)\n",
    "                diff = mu1 - self.mu0\n",
    "                lr.append((k-tau)/2 * np.matmul(np.matmul(diff.T, self.inv_sigma0), diff))\n",
    "            mlr = np.max(lr)\n",
    "            self.RL += 1"
   ]
  },
  {
   "cell_type": "markdown",
   "metadata": {},
   "source": [
    "## Type 1"
   ]
  },
  {
   "cell_type": "code",
   "execution_count": 53,
   "metadata": {},
   "outputs": [
    {
     "data": {
      "text/plain": [
       "(1000, 200)"
      ]
     },
     "execution_count": 53,
     "metadata": {},
     "output_type": "execute_result"
    }
   ],
   "source": [
    "seedid = 19940402\n",
    "np.random.seed(seedid)\n",
    "p = 200\n",
    "w = 5\n",
    "TrnLen = 1000 #50000\n",
    "ARL0=1000\n",
    "mu0 = 5*np.ones(p)\n",
    "ControlType = 'InControl'\n",
    "DataType = 'Profile'\n",
    "DistType = 'Normal'\n",
    "rho = 0.3 \n",
    "CovType = 'Tridiagonal'\n",
    "phi = 0.3\n",
    "Tag = (ControlType,DataType,CovType,DistType,'phi',str(phi),'rho',str(rho))\n",
    "TagJoin = ''.join(Tag)\n",
    "data_in = np.load(\"data/in-control/Trn\"+TagJoin+\".npy\")\n",
    "data_in.shape"
   ]
  },
  {
   "cell_type": "code",
   "execution_count": 54,
   "metadata": {},
   "outputs": [
    {
     "name": "stdout",
     "output_type": "stream",
     "text": [
      "('OutControl', 'Profile', 'TriDiagonal', 'Normal', 'Sparse', 'phi', '0.3', 'rho', '0.3', 'deltanorm', '2')\n"
     ]
    },
    {
     "data": {
      "text/plain": [
       "(10, 1000, 200)"
      ]
     },
     "execution_count": 54,
     "metadata": {},
     "output_type": "execute_result"
    }
   ],
   "source": [
    "ControlType = 'OutControl'\n",
    "DataType = 'Profile'\n",
    "DistType = 'Normal'\n",
    "rho = 0.3 \n",
    "CovType = 'TriDiagonal'\n",
    "phi = 0.3\n",
    "deltanorm = 2 # the norm of shift for Type1\n",
    "ShiftType = 'Sparse'\n",
    "\n",
    "Tag = (ControlType,DataType,CovType,DistType,ShiftType,'phi',str(phi),'rho',str(rho),'deltanorm',str(deltanorm))\n",
    "TagJoin = ''.join(Tag)\n",
    "print(Tag)\n",
    "data_out = np.load(\"data/out-of-control/Trn\"+TagJoin+\".npy\")\n",
    "data_out.shape"
   ]
  },
  {
   "cell_type": "code",
   "execution_count": 55,
   "metadata": {},
   "outputs": [],
   "source": [
    "mglr = MGLR()\n",
    "mglr.setup(data_in)\n",
    "mglr.control_limit = 62.63 # refer to Table 1 in paper"
   ]
  },
  {
   "cell_type": "code",
   "execution_count": 56,
   "metadata": {},
   "outputs": [
    {
     "name": "stderr",
     "output_type": "stream",
     "text": [
      "100%|██████████| 10/10 [00:41<00:00,  4.19s/it]\n"
     ]
    }
   ],
   "source": [
    "RL = []\n",
    "cov_error = getCov(rho, p, CovType)\n",
    "for i in tqdm(range(len(data_out))):\n",
    "    mglr.monitor(data_out[i],5*np.ones(p),max_RL=10000)\n",
    "    RL.append(mglr.RL)"
   ]
  },
  {
   "cell_type": "code",
   "execution_count": 57,
   "metadata": {},
   "outputs": [
    {
     "data": {
      "text/plain": [
       "[334.5, 690.1300239809887]"
      ]
     },
     "execution_count": 57,
     "metadata": {},
     "output_type": "execute_result"
    }
   ],
   "source": [
    "[np.mean(RL), np.std(RL)]"
   ]
  },
  {
   "cell_type": "markdown",
   "metadata": {},
   "source": [
    "## Type 2"
   ]
  },
  {
   "cell_type": "code",
   "execution_count": 71,
   "metadata": {},
   "outputs": [
    {
     "data": {
      "text/plain": [
       "(4000, 100, 200)"
      ]
     },
     "execution_count": 71,
     "metadata": {},
     "output_type": "execute_result"
    }
   ],
   "source": [
    "ControlType = 'InControl'\n",
    "DataType = 'Image'\n",
    "DistType = 'Normal'\n",
    "phi = 0.3\n",
    "rho = 0.3 \n",
    "Phi = phi * np.eye(p)\n",
    "m = 5*np.ones([w,p])\n",
    "CovType = 'TriDiagonal'\n",
    "DeltaNorm = 10 # the norm of shift for Type2\n",
    "ShiftType = 'Chessboard'\n",
    "\n",
    "TagN = (ControlType,DataType,CovType,'Normal','phi',str(phi),'rho',str(rho))\n",
    "TagNJoin = ''.join(TagN)\n",
    "\n",
    "data_in = np.load(\"data/in-control/Trn\"+TagNJoin+\".npy\")\n",
    "TrnLen,w,p = data_in.shape\n",
    "TrnLen,w,p"
   ]
  },
  {
   "cell_type": "code",
   "execution_count": 72,
   "metadata": {},
   "outputs": [
    {
     "data": {
      "text/plain": [
       "(400000, 200)"
      ]
     },
     "execution_count": 72,
     "metadata": {},
     "output_type": "execute_result"
    }
   ],
   "source": [
    "data_in = data_in.reshape(TrnLen*w,p)\n",
    "data_in.shape"
   ]
  },
  {
   "cell_type": "code",
   "execution_count": 73,
   "metadata": {},
   "outputs": [],
   "source": [
    "DeltaNorm = 10 # the norm of shift for Type2\n",
    "ShiftType = 'Chessboard'\n",
    "\n",
    "if ShiftType == 'Chessboard':\n",
    "    # Chessboard\n",
    "    shift_matrix = []\n",
    "    element = [[0, 1, 0, -1], [-1, 0, 1, 0]]\n",
    "    for i in range(w // 5):\n",
    "        row_element = element[i % 2]\n",
    "        row = []\n",
    "        for j in range(p // 10):\n",
    "            row += [row_element[j % 4]] * 10\n",
    "        shift_matrix += [row] * 5\n",
    "    shift_matrix = DeltaNorm / np.linalg.norm(shift_matrix) * np.array(shift_matrix)\n",
    "elif ShiftType == 'Sparse':\n",
    "    # Sparse\n",
    "    shift_matrix = np.zeros([w, p])\n",
    "    shift_matrix[8:13, 18:23] = np.ones([5, 5])\n",
    "\n",
    "    shift_matrix = np.zeros([w, p])\n",
    "    for i in range(99):\n",
    "        shift_matrix[i:(i+2), (2*i):(2*i+2)] = np.ones([2,2])\n",
    "\n",
    "    shift_matrix = np.zeros([w, p])\n",
    "    for i in range(25, 80):\n",
    "        j = int((i**2) * 100 / 80**2)\n",
    "        shift_matrix[i:(i+3), j:(j+3)] = np.ones([3,3])\n",
    "\n",
    "    u1 = np.linspace(1, -1, w)\n",
    "    v1 = np.linspace(1, 0, p)\n",
    "    shift_matrix = np.matmul(u1.reshape([w, 1]), v1.reshape([1, p]))\n",
    "    shift_matrix = DeltaNorm / np.linalg.norm(shift_matrix) * np.array(shift_matrix)\n",
    "elif ShiftType == 'Sine(row)':\n",
    "    # Sine (row)\n",
    "    shift_matrix = np.zeros([w, p])\n",
    "    for i in range(30):\n",
    "        shift_matrix[i,:] = np.sin(np.arange(0, p) * np.pi * 2 / 20)\n",
    "    for i in range(30, 60):\n",
    "        shift_matrix[i,:] = np.sin(np.arange(0, p) * np.pi * 4 / 20)\n",
    "    for i in range(60, 100):\n",
    "        shift_matrix[i,:] = np.sin(np.arange(0, p) * np.pi * 6 / 20)\n",
    "    shift_matrix = DeltaNorm / np.linalg.norm(shift_matrix) * np.array(shift_matrix)\n",
    "elif ShiftType == 'Sine(col)':\n",
    "    # Sine (column)\n",
    "    shift_matrix = np.zeros([w, p])\n",
    "    for i in range(60):\n",
    "        shift_matrix[:,i] = np.sin(np.arange(0, w) * np.pi * 2 / 10)\n",
    "    for i in range(60, 120):\n",
    "        shift_matrix[:,i] = np.sin(np.arange(0, w) * np.pi * 4 / 10)\n",
    "    for i in range(120, 200):\n",
    "        shift_matrix[:,i] = np.sin(np.arange(0, w) * np.pi * 6 / 10)\n",
    "    shift_matrix = DeltaNorm / np.linalg.norm(shift_matrix) * np.array(shift_matrix)\n",
    "elif ShiftType == 'Ring':\n",
    "    # Ring\n",
    "    shift_matrix = np.zeros([w, p])\n",
    "    for i in range(w):\n",
    "        for j in range(p):\n",
    "            if int(np.sqrt((i-50)**2 + (j-100)**2)) % 12 <= 3:\n",
    "                shift_matrix[i, j] = 1\n",
    "            elif int(np.sqrt((i-50)**2 + (j-100)**2)) % 12 >= 8:\n",
    "                shift_matrix[i, j] = -1\n",
    "    shift_matrix = DeltaNorm / np.linalg.norm(shift_matrix) * np.array(shift_matrix)\n",
    "\n",
    "M_shifted = 5*np.ones([w,p])+shift_matrix"
   ]
  },
  {
   "cell_type": "code",
   "execution_count": 74,
   "metadata": {},
   "outputs": [],
   "source": [
    "mglr = MGLR(region_row=10, window_size=w, skip_row=w-1)\n",
    "mglr.setup(data_in)"
   ]
  },
  {
   "cell_type": "code",
   "execution_count": 75,
   "metadata": {},
   "outputs": [],
   "source": [
    "mglr.control_limit = 79.39"
   ]
  },
  {
   "cell_type": "code",
   "execution_count": 77,
   "metadata": {},
   "outputs": [
    {
     "name": "stderr",
     "output_type": "stream",
     "text": [
      "100%|██████████| 20/20 [00:25<00:00,  1.28s/it]\n"
     ]
    }
   ],
   "source": [
    "cov_col = getCov(phi, p, CovType)\n",
    "cov_row = getCov(phi, w, CovType)\n",
    "RL = []\n",
    "for i in tqdm(range(20)):\n",
    "#     np.random.seed(20170225 + i)  # comment when testing ARL1\n",
    "    mglr.monitor_image(5*np.ones([w,p]), max_RL=10000)\n",
    "    RL.append(mglr.RL)\n",
    "#     if len(RL) % 100 == 0:\n",
    "#         print(np.mean(RL))"
   ]
  },
  {
   "cell_type": "code",
   "execution_count": 78,
   "metadata": {},
   "outputs": [
    {
     "data": {
      "text/plain": [
       "[341.3, 204.968802504186]"
      ]
     },
     "execution_count": 78,
     "metadata": {},
     "output_type": "execute_result"
    }
   ],
   "source": [
    "[np.mean(RL), np.std(RL)]"
   ]
  },
  {
   "cell_type": "code",
   "execution_count": null,
   "metadata": {},
   "outputs": [],
   "source": []
  }
 ],
 "metadata": {
  "kernelspec": {
   "display_name": "Python 3.8.8 ('base')",
   "language": "python",
   "name": "python3"
  },
  "language_info": {
   "codemirror_mode": {
    "name": "ipython",
    "version": 3
   },
   "file_extension": ".py",
   "mimetype": "text/x-python",
   "name": "python",
   "nbconvert_exporter": "python",
   "pygments_lexer": "ipython3",
   "version": "3.8.8"
  },
  "orig_nbformat": 4,
  "vscode": {
   "interpreter": {
    "hash": "8ff70b884d003b5461196a04cb9410cf6794bf8e99aaa5d8c96ca3c62e7e7728"
   }
  }
 },
 "nbformat": 4,
 "nbformat_minor": 2
}
